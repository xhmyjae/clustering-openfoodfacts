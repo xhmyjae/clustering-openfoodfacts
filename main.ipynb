{
 "cells": [
  {
   "cell_type": "markdown",
   "metadata": {},
   "source": [
    "# Clustering on Open Food Facts dataset"
   ]
  },
  {
   "cell_type": "markdown",
   "metadata": {},
   "source": [
    "### Load data"
   ]
  },
  {
   "cell_type": "code",
   "execution_count": 2,
   "metadata": {},
   "outputs": [],
   "source": [
    "# Imports libraries\n",
    "from scripts import analyse_columns, clean\n",
    "from scripts.kmeans import kmeans_clustering, plot_elbow_method\n",
    "from scripts.plots import plot_clusters_2d, plot_cluster_sizes, plot_feature_relationships\n",
    "from scripts.model_utils import load_model\n",
    "# from scripts.dimension_reduction import reduce_dimensions\n",
    "\n",
    "import pandas as pd\n",
    "import numpy as np\n",
    "# import mlflow\n",
    "from sklearn.preprocessing import StandardScaler\n",
    "from sklearn.decomposition import PCA\n",
    "# import umap\n",
    "import matplotlib.pyplot as plt\n",
    "\n",
    "# mlflow.autolog()"
   ]
  },
  {
   "cell_type": "code",
   "execution_count": 3,
   "metadata": {},
   "outputs": [
    {
     "name": "stderr",
     "output_type": "stream",
     "text": [
      "C:\\Users\\jaech\\AppData\\Local\\Temp\\ipykernel_16776\\4190858480.py:4: ParserWarning: Falling back to the 'python' engine because the 'c' engine does not support regex separators (separators > 1 char and different from '\\s+' are interpreted as regex); you can avoid this warning by specifying engine='python'.\n",
      "  df = pd.read_csv(path,\n"
     ]
    }
   ],
   "source": [
    "# Load Open Food Facts dataset csv\n",
    "path = \"data/en.openfoodfacts.org.products.csv\"\n",
    "\n",
    "df = pd.read_csv(path, \n",
    "                 sep='\\\\t', \n",
    "                 encoding=\"utf-8\",\n",
    "                 on_bad_lines='skip',\n",
    "                 nrows=300000)"
   ]
  },
  {
   "cell_type": "code",
   "execution_count": 4,
   "metadata": {},
   "outputs": [
    {
     "name": "stdout",
     "output_type": "stream",
     "text": [
      "\n",
      "First few rows:\n"
     ]
    },
    {
     "data": {
      "text/html": [
       "<div>\n",
       "<style scoped>\n",
       "    .dataframe tbody tr th:only-of-type {\n",
       "        vertical-align: middle;\n",
       "    }\n",
       "\n",
       "    .dataframe tbody tr th {\n",
       "        vertical-align: top;\n",
       "    }\n",
       "\n",
       "    .dataframe thead th {\n",
       "        text-align: right;\n",
       "    }\n",
       "</style>\n",
       "<table border=\"1\" class=\"dataframe\">\n",
       "  <thead>\n",
       "    <tr style=\"text-align: right;\">\n",
       "      <th></th>\n",
       "      <th>code</th>\n",
       "      <th>url</th>\n",
       "      <th>creator</th>\n",
       "      <th>created_t</th>\n",
       "      <th>created_datetime</th>\n",
       "      <th>last_modified_t</th>\n",
       "      <th>last_modified_datetime</th>\n",
       "      <th>last_modified_by</th>\n",
       "      <th>last_updated_t</th>\n",
       "      <th>last_updated_datetime</th>\n",
       "      <th>...</th>\n",
       "      <th>glycemic-index_100g</th>\n",
       "      <th>water-hardness_100g</th>\n",
       "      <th>choline_100g</th>\n",
       "      <th>phylloquinone_100g</th>\n",
       "      <th>beta-glucan_100g</th>\n",
       "      <th>inositol_100g</th>\n",
       "      <th>carnitine_100g</th>\n",
       "      <th>sulphate_100g</th>\n",
       "      <th>nitrate_100g</th>\n",
       "      <th>acidity_100g</th>\n",
       "    </tr>\n",
       "  </thead>\n",
       "  <tbody>\n",
       "    <tr>\n",
       "      <th>0</th>\n",
       "      <td>54</td>\n",
       "      <td>http://world-en.openfoodfacts.org/product/0000...</td>\n",
       "      <td>kiliweb</td>\n",
       "      <td>1582569031</td>\n",
       "      <td>2020-02-24T18:30:31Z</td>\n",
       "      <td>1733085204</td>\n",
       "      <td>2024-12-01T20:33:24Z</td>\n",
       "      <td>NaN</td>\n",
       "      <td>1.740205e+09</td>\n",
       "      <td>2025-02-22T06:23:42Z</td>\n",
       "      <td>...</td>\n",
       "      <td>NaN</td>\n",
       "      <td>NaN</td>\n",
       "      <td>NaN</td>\n",
       "      <td>NaN</td>\n",
       "      <td>NaN</td>\n",
       "      <td>NaN</td>\n",
       "      <td>NaN</td>\n",
       "      <td>NaN</td>\n",
       "      <td>NaN</td>\n",
       "      <td>NaN</td>\n",
       "    </tr>\n",
       "    <tr>\n",
       "      <th>1</th>\n",
       "      <td>63</td>\n",
       "      <td>http://world-en.openfoodfacts.org/product/0000...</td>\n",
       "      <td>kiliweb</td>\n",
       "      <td>1673620307</td>\n",
       "      <td>2023-01-13T14:31:47Z</td>\n",
       "      <td>1739902555</td>\n",
       "      <td>2025-02-18T18:15:55Z</td>\n",
       "      <td>waistline-app</td>\n",
       "      <td>1.743267e+09</td>\n",
       "      <td>2025-03-29T16:49:10Z</td>\n",
       "      <td>...</td>\n",
       "      <td>NaN</td>\n",
       "      <td>NaN</td>\n",
       "      <td>NaN</td>\n",
       "      <td>NaN</td>\n",
       "      <td>NaN</td>\n",
       "      <td>NaN</td>\n",
       "      <td>NaN</td>\n",
       "      <td>NaN</td>\n",
       "      <td>NaN</td>\n",
       "      <td>NaN</td>\n",
       "    </tr>\n",
       "    <tr>\n",
       "      <th>2</th>\n",
       "      <td>114</td>\n",
       "      <td>http://world-en.openfoodfacts.org/product/0000...</td>\n",
       "      <td>kiliweb</td>\n",
       "      <td>1580066482</td>\n",
       "      <td>2020-01-26T19:21:22Z</td>\n",
       "      <td>1737247862</td>\n",
       "      <td>2025-01-19T00:51:02Z</td>\n",
       "      <td>smoothie-app</td>\n",
       "      <td>1.743312e+09</td>\n",
       "      <td>2025-03-30T05:22:25Z</td>\n",
       "      <td>...</td>\n",
       "      <td>NaN</td>\n",
       "      <td>NaN</td>\n",
       "      <td>NaN</td>\n",
       "      <td>NaN</td>\n",
       "      <td>NaN</td>\n",
       "      <td>NaN</td>\n",
       "      <td>NaN</td>\n",
       "      <td>NaN</td>\n",
       "      <td>NaN</td>\n",
       "      <td>NaN</td>\n",
       "    </tr>\n",
       "    <tr>\n",
       "      <th>3</th>\n",
       "      <td>1</td>\n",
       "      <td>http://world-en.openfoodfacts.org/product/0000...</td>\n",
       "      <td>inf</td>\n",
       "      <td>1634745456</td>\n",
       "      <td>2021-10-20T15:57:36Z</td>\n",
       "      <td>1743233868</td>\n",
       "      <td>2025-03-29T07:37:48Z</td>\n",
       "      <td>smoothie-app</td>\n",
       "      <td>1.743281e+09</td>\n",
       "      <td>2025-03-29T20:48:12Z</td>\n",
       "      <td>...</td>\n",
       "      <td>NaN</td>\n",
       "      <td>NaN</td>\n",
       "      <td>NaN</td>\n",
       "      <td>NaN</td>\n",
       "      <td>NaN</td>\n",
       "      <td>NaN</td>\n",
       "      <td>NaN</td>\n",
       "      <td>NaN</td>\n",
       "      <td>NaN</td>\n",
       "      <td>NaN</td>\n",
       "    </tr>\n",
       "    <tr>\n",
       "      <th>4</th>\n",
       "      <td>105</td>\n",
       "      <td>http://world-en.openfoodfacts.org/product/0000...</td>\n",
       "      <td>kiliweb</td>\n",
       "      <td>1572117743</td>\n",
       "      <td>2019-10-26T19:22:23Z</td>\n",
       "      <td>1738073570</td>\n",
       "      <td>2025-01-28T14:12:50Z</td>\n",
       "      <td>NaN</td>\n",
       "      <td>1.740085e+09</td>\n",
       "      <td>2025-02-20T20:57:12Z</td>\n",
       "      <td>...</td>\n",
       "      <td>NaN</td>\n",
       "      <td>NaN</td>\n",
       "      <td>NaN</td>\n",
       "      <td>NaN</td>\n",
       "      <td>NaN</td>\n",
       "      <td>NaN</td>\n",
       "      <td>NaN</td>\n",
       "      <td>NaN</td>\n",
       "      <td>NaN</td>\n",
       "      <td>NaN</td>\n",
       "    </tr>\n",
       "  </tbody>\n",
       "</table>\n",
       "<p>5 rows × 207 columns</p>\n",
       "</div>"
      ],
      "text/plain": [
       "   code                                                url  creator  \\\n",
       "0    54  http://world-en.openfoodfacts.org/product/0000...  kiliweb   \n",
       "1    63  http://world-en.openfoodfacts.org/product/0000...  kiliweb   \n",
       "2   114  http://world-en.openfoodfacts.org/product/0000...  kiliweb   \n",
       "3     1  http://world-en.openfoodfacts.org/product/0000...      inf   \n",
       "4   105  http://world-en.openfoodfacts.org/product/0000...  kiliweb   \n",
       "\n",
       "    created_t      created_datetime  last_modified_t last_modified_datetime  \\\n",
       "0  1582569031  2020-02-24T18:30:31Z       1733085204   2024-12-01T20:33:24Z   \n",
       "1  1673620307  2023-01-13T14:31:47Z       1739902555   2025-02-18T18:15:55Z   \n",
       "2  1580066482  2020-01-26T19:21:22Z       1737247862   2025-01-19T00:51:02Z   \n",
       "3  1634745456  2021-10-20T15:57:36Z       1743233868   2025-03-29T07:37:48Z   \n",
       "4  1572117743  2019-10-26T19:22:23Z       1738073570   2025-01-28T14:12:50Z   \n",
       "\n",
       "  last_modified_by  last_updated_t last_updated_datetime  ...  \\\n",
       "0              NaN    1.740205e+09  2025-02-22T06:23:42Z  ...   \n",
       "1    waistline-app    1.743267e+09  2025-03-29T16:49:10Z  ...   \n",
       "2     smoothie-app    1.743312e+09  2025-03-30T05:22:25Z  ...   \n",
       "3     smoothie-app    1.743281e+09  2025-03-29T20:48:12Z  ...   \n",
       "4              NaN    1.740085e+09  2025-02-20T20:57:12Z  ...   \n",
       "\n",
       "  glycemic-index_100g water-hardness_100g choline_100g phylloquinone_100g  \\\n",
       "0                 NaN                 NaN          NaN                NaN   \n",
       "1                 NaN                 NaN          NaN                NaN   \n",
       "2                 NaN                 NaN          NaN                NaN   \n",
       "3                 NaN                 NaN          NaN                NaN   \n",
       "4                 NaN                 NaN          NaN                NaN   \n",
       "\n",
       "  beta-glucan_100g inositol_100g carnitine_100g sulphate_100g nitrate_100g  \\\n",
       "0              NaN           NaN            NaN           NaN          NaN   \n",
       "1              NaN           NaN            NaN           NaN          NaN   \n",
       "2              NaN           NaN            NaN           NaN          NaN   \n",
       "3              NaN           NaN            NaN           NaN          NaN   \n",
       "4              NaN           NaN            NaN           NaN          NaN   \n",
       "\n",
       "  acidity_100g  \n",
       "0          NaN  \n",
       "1          NaN  \n",
       "2          NaN  \n",
       "3          NaN  \n",
       "4          NaN  \n",
       "\n",
       "[5 rows x 207 columns]"
      ]
     },
     "metadata": {},
     "output_type": "display_data"
    }
   ],
   "source": [
    "# Display basic information about the dataset\n",
    "print(\"\\nFirst few rows:\")\n",
    "display(df.head())"
   ]
  },
  {
   "cell_type": "code",
   "execution_count": 5,
   "metadata": {},
   "outputs": [
    {
     "name": "stdout",
     "output_type": "stream",
     "text": [
      "(300000, 207)\n"
     ]
    }
   ],
   "source": [
    "# Display number of rows and columns\n",
    "print(df.shape)"
   ]
  },
  {
   "cell_type": "code",
   "execution_count": 7,
   "metadata": {},
   "outputs": [
    {
     "name": "stdout",
     "output_type": "stream",
     "text": [
      "\n",
      "Summary statistics of numeric columns:\n",
      "               code     created_t  last_modified_t  last_updated_t  cities  \\\n",
      "count  3.000000e+05  3.000000e+05     3.000000e+05    2.999990e+05     0.0   \n",
      "mean   3.137336e+10  1.602221e+09     1.675281e+09    1.730084e+09     NaN   \n",
      "std    1.790903e+10  7.941908e+07     6.019029e+07    1.264524e+07     NaN   \n",
      "min    1.000000e+00  1.332445e+09     1.424628e+09    1.701775e+09     NaN   \n",
      "5%     3.751437e+05  1.489060e+09     1.587584e+09    1.707823e+09     NaN   \n",
      "25%    1.586902e+10  1.537557e+09     1.627337e+09    1.720854e+09     NaN   \n",
      "50%    3.582620e+10  1.592158e+09     1.686268e+09    1.734786e+09     NaN   \n",
      "75%    4.222213e+10  1.660326e+09     1.728055e+09    1.738831e+09     NaN   \n",
      "95%    5.974993e+10  1.726980e+09     1.740369e+09    1.742519e+09     NaN   \n",
      "max    6.263936e+10  1.743488e+09     1.743488e+09    1.743488e+09     NaN   \n",
      "\n",
      "       allergens_en  serving_quantity    additives_n  additives  \\\n",
      "count           0.0      1.740800e+05  158152.000000        0.0   \n",
      "mean            NaN      3.135086e+26       2.544381        NaN   \n",
      "std             NaN      1.308049e+29       3.218255        NaN   \n",
      "min             NaN      0.000000e+00       0.000000        NaN   \n",
      "5%              NaN      5.000000e+00       0.000000        NaN   \n",
      "25%             NaN      2.800000e+01       0.000000        NaN   \n",
      "50%             NaN      4.500000e+01       1.000000        NaN   \n",
      "75%             NaN      1.130000e+02       4.000000        NaN   \n",
      "95%             NaN      2.840000e+02       9.000000        NaN   \n",
      "max             NaN      5.457558e+31      33.000000        NaN   \n",
      "\n",
      "       nutriscore_score  ...  glycemic-index_100g  water-hardness_100g  \\\n",
      "count     142433.000000  ...                  0.0                  0.0   \n",
      "mean          11.821088  ...                  NaN                  NaN   \n",
      "std           10.773694  ...                  NaN                  NaN   \n",
      "min          -17.000000  ...                  NaN                  NaN   \n",
      "5%            -4.000000  ...                  NaN                  NaN   \n",
      "25%            2.000000  ...                  NaN                  NaN   \n",
      "50%           12.000000  ...                  NaN                  NaN   \n",
      "75%           20.000000  ...                  NaN                  NaN   \n",
      "95%           30.000000  ...                  NaN                  NaN   \n",
      "max           55.000000  ...                  NaN                  NaN   \n",
      "\n",
      "       choline_100g  phylloquinone_100g  beta-glucan_100g  inositol_100g  \\\n",
      "count      2.000000          455.000000               0.0       2.000000   \n",
      "mean       0.098650            0.000168               NaN      37.511500   \n",
      "std        0.052821            0.000961               NaN      53.016745   \n",
      "min        0.061300            0.000000               NaN       0.023000   \n",
      "5%         0.065035            0.000001               NaN       3.771850   \n",
      "25%        0.079975            0.000007               NaN      18.767250   \n",
      "50%        0.098650            0.000013               NaN      37.511500   \n",
      "75%        0.117325            0.000100               NaN      56.255750   \n",
      "95%        0.132265            0.000608               NaN      71.251150   \n",
      "max        0.136000            0.017143               NaN      75.000000   \n",
      "\n",
      "       carnitine_100g  sulphate_100g  nitrate_100g  acidity_100g  \n",
      "count             0.0       1.000000  3.000000e+00           1.0  \n",
      "mean              NaN       0.000031  8.766667e-05           5.0  \n",
      "std               NaN            NaN  1.492526e-04           NaN  \n",
      "min               NaN       0.000031  0.000000e+00           5.0  \n",
      "5%                NaN       0.000031  3.000000e-07           5.0  \n",
      "25%               NaN       0.000031  1.500000e-06           5.0  \n",
      "50%               NaN       0.000031  3.000000e-06           5.0  \n",
      "75%               NaN       0.000031  1.315000e-04           5.0  \n",
      "95%               NaN       0.000031  2.343000e-04           5.0  \n",
      "max               NaN       0.000031  2.600000e-04           5.0  \n",
      "\n",
      "[10 rows x 135 columns]\n",
      "\n",
      "Skewness of numeric columns:\n",
      "code              -0.235875\n",
      "created_t         -0.148456\n",
      "last_modified_t   -0.608352\n",
      "last_updated_t    -0.989161\n",
      "cities                  NaN\n",
      "                     ...   \n",
      "inositol_100g           NaN\n",
      "carnitine_100g          NaN\n",
      "sulphate_100g           NaN\n",
      "nitrate_100g       1.731264\n",
      "acidity_100g            NaN\n",
      "Length: 135, dtype: float64\n",
      "\n",
      "Kurtosis of numeric columns:\n",
      "code              -1.013691\n",
      "created_t         -0.970069\n",
      "last_modified_t   -0.751251\n",
      "last_updated_t    -0.701069\n",
      "cities                  NaN\n",
      "                     ...   \n",
      "inositol_100g           NaN\n",
      "carnitine_100g          NaN\n",
      "sulphate_100g           NaN\n",
      "nitrate_100g            NaN\n",
      "acidity_100g            NaN\n",
      "Length: 135, dtype: float64\n",
      "\n",
      "Number of non-null values in numeric columns:\n",
      "code               300000\n",
      "created_t          300000\n",
      "last_modified_t    300000\n",
      "last_updated_t     299999\n",
      "cities                  0\n",
      "                    ...  \n",
      "inositol_100g           2\n",
      "carnitine_100g          0\n",
      "sulphate_100g           1\n",
      "nitrate_100g            3\n",
      "acidity_100g            1\n",
      "Length: 135, dtype: int64\n"
     ]
    }
   ],
   "source": [
    "# Show summary statistics of numeric columns\n",
    "# Display detailed summary statistics of numeric columns\n",
    "print(\"\\nSummary statistics of numeric columns:\")\n",
    "print(df.describe(include=[np.number], percentiles=[.05, .25, .5, .75, .95]))\n",
    "\n",
    "# Show additional statistics\n",
    "print(\"\\nSkewness of numeric columns:\")\n",
    "print(df.select_dtypes(include=[np.number]).skew())\n",
    "\n",
    "print(\"\\nKurtosis of numeric columns:\")\n",
    "print(df.select_dtypes(include=[np.number]).kurtosis())\n",
    "\n",
    "# Count number of non-null values for each numeric column\n",
    "print(\"\\nNumber of non-null values in numeric columns:\")\n",
    "print(df.select_dtypes(include=[np.number]).count())"
   ]
  },
  {
   "cell_type": "markdown",
   "metadata": {},
   "source": [
    "### Data Processing"
   ]
  },
  {
   "cell_type": "code",
   "execution_count": 8,
   "metadata": {},
   "outputs": [
    {
     "name": "stdout",
     "output_type": "stream",
     "text": [
      "\n",
      "Cleaned dataset shape: (300000, 207)\n",
      "\n",
      "Remaining columns:\n",
      "['energy_100g', 'saturated-fat_100g', 'carbohydrates_100g', 'sugars_100g', 'fiber_100g', 'proteins_100g', 'salt_100g', 'sodium_100g', 'fruits-vegetables-nuts-estimate-from-ingredients_100g']\n"
     ]
    }
   ],
   "source": [
    "# Keep only relevant columns (nutritional columns)\n",
    "\n",
    "# All other columns are irrelevant\n",
    "irrelevant_columns = [col for col in df.columns if not col.endswith('_100g')]\n",
    "\n",
    "# Manually remove energy-kcal_100g and fat_100g from irrelevant_columns\n",
    "irrelevant_columns.extend(['energy-kcal_100g', 'fat_100g'])\n",
    "\n",
    "\n",
    "# Clean dataset using the clean() function\n",
    "df_cleaned = clean.clean(df, irrelevant_columns=irrelevant_columns, missing_threshold=0.5)\n",
    "\n",
    "# Display cleaned dataset info\n",
    "print(\"\\nCleaned dataset shape:\", df.shape)\n",
    "print(\"\\nRemaining columns:\")\n",
    "print(df_cleaned.columns.tolist())\n"
   ]
  },
  {
   "cell_type": "code",
   "execution_count": 9,
   "metadata": {},
   "outputs": [
    {
     "data": {
      "text/html": [
       "<div>\n",
       "<style scoped>\n",
       "    .dataframe tbody tr th:only-of-type {\n",
       "        vertical-align: middle;\n",
       "    }\n",
       "\n",
       "    .dataframe tbody tr th {\n",
       "        vertical-align: top;\n",
       "    }\n",
       "\n",
       "    .dataframe thead th {\n",
       "        text-align: right;\n",
       "    }\n",
       "</style>\n",
       "<table border=\"1\" class=\"dataframe\">\n",
       "  <thead>\n",
       "    <tr style=\"text-align: right;\">\n",
       "      <th></th>\n",
       "      <th>energy_100g</th>\n",
       "      <th>saturated-fat_100g</th>\n",
       "      <th>carbohydrates_100g</th>\n",
       "      <th>sugars_100g</th>\n",
       "      <th>fiber_100g</th>\n",
       "      <th>proteins_100g</th>\n",
       "      <th>salt_100g</th>\n",
       "      <th>sodium_100g</th>\n",
       "      <th>fruits-vegetables-nuts-estimate-from-ingredients_100g</th>\n",
       "    </tr>\n",
       "  </thead>\n",
       "  <tbody>\n",
       "    <tr>\n",
       "      <th>0</th>\n",
       "      <td>NaN</td>\n",
       "      <td>NaN</td>\n",
       "      <td>NaN</td>\n",
       "      <td>NaN</td>\n",
       "      <td>NaN</td>\n",
       "      <td>NaN</td>\n",
       "      <td>NaN</td>\n",
       "      <td>NaN</td>\n",
       "      <td>NaN</td>\n",
       "    </tr>\n",
       "    <tr>\n",
       "      <th>1</th>\n",
       "      <td>1389.0</td>\n",
       "      <td>17.3</td>\n",
       "      <td>3.0</td>\n",
       "      <td>1.0</td>\n",
       "      <td>NaN</td>\n",
       "      <td>23.0</td>\n",
       "      <td>1.200</td>\n",
       "      <td>0.48</td>\n",
       "      <td>0.000000</td>\n",
       "    </tr>\n",
       "    <tr>\n",
       "      <th>2</th>\n",
       "      <td>2415.0</td>\n",
       "      <td>28.0</td>\n",
       "      <td>30.0</td>\n",
       "      <td>27.0</td>\n",
       "      <td>NaN</td>\n",
       "      <td>7.1</td>\n",
       "      <td>0.025</td>\n",
       "      <td>0.01</td>\n",
       "      <td>NaN</td>\n",
       "    </tr>\n",
       "    <tr>\n",
       "      <th>3</th>\n",
       "      <td>NaN</td>\n",
       "      <td>NaN</td>\n",
       "      <td>NaN</td>\n",
       "      <td>NaN</td>\n",
       "      <td>NaN</td>\n",
       "      <td>NaN</td>\n",
       "      <td>NaN</td>\n",
       "      <td>NaN</td>\n",
       "      <td>100.000000</td>\n",
       "    </tr>\n",
       "    <tr>\n",
       "      <th>4</th>\n",
       "      <td>NaN</td>\n",
       "      <td>NaN</td>\n",
       "      <td>NaN</td>\n",
       "      <td>NaN</td>\n",
       "      <td>NaN</td>\n",
       "      <td>NaN</td>\n",
       "      <td>NaN</td>\n",
       "      <td>NaN</td>\n",
       "      <td>0.011335</td>\n",
       "    </tr>\n",
       "  </tbody>\n",
       "</table>\n",
       "</div>"
      ],
      "text/plain": [
       "   energy_100g  saturated-fat_100g  carbohydrates_100g  sugars_100g  \\\n",
       "0          NaN                 NaN                 NaN          NaN   \n",
       "1       1389.0                17.3                 3.0          1.0   \n",
       "2       2415.0                28.0                30.0         27.0   \n",
       "3          NaN                 NaN                 NaN          NaN   \n",
       "4          NaN                 NaN                 NaN          NaN   \n",
       "\n",
       "   fiber_100g  proteins_100g  salt_100g  sodium_100g  \\\n",
       "0         NaN            NaN        NaN          NaN   \n",
       "1         NaN           23.0      1.200         0.48   \n",
       "2         NaN            7.1      0.025         0.01   \n",
       "3         NaN            NaN        NaN          NaN   \n",
       "4         NaN            NaN        NaN          NaN   \n",
       "\n",
       "   fruits-vegetables-nuts-estimate-from-ingredients_100g  \n",
       "0                                                NaN      \n",
       "1                                           0.000000      \n",
       "2                                                NaN      \n",
       "3                                         100.000000      \n",
       "4                                           0.011335      "
      ]
     },
     "metadata": {},
     "output_type": "display_data"
    }
   ],
   "source": [
    "display(df_cleaned.head())"
   ]
  },
  {
   "cell_type": "code",
   "execution_count": 10,
   "metadata": {},
   "outputs": [
    {
     "name": "stdout",
     "output_type": "stream",
     "text": [
      "\n",
      "Number of NaN values remaining:\n",
      "0\n",
      "\n",
      "First few rows after handling missing values:\n"
     ]
    },
    {
     "data": {
      "text/html": [
       "<div>\n",
       "<style scoped>\n",
       "    .dataframe tbody tr th:only-of-type {\n",
       "        vertical-align: middle;\n",
       "    }\n",
       "\n",
       "    .dataframe tbody tr th {\n",
       "        vertical-align: top;\n",
       "    }\n",
       "\n",
       "    .dataframe thead th {\n",
       "        text-align: right;\n",
       "    }\n",
       "</style>\n",
       "<table border=\"1\" class=\"dataframe\">\n",
       "  <thead>\n",
       "    <tr style=\"text-align: right;\">\n",
       "      <th></th>\n",
       "      <th>energy_100g</th>\n",
       "      <th>saturated-fat_100g</th>\n",
       "      <th>carbohydrates_100g</th>\n",
       "      <th>sugars_100g</th>\n",
       "      <th>fiber_100g</th>\n",
       "      <th>proteins_100g</th>\n",
       "      <th>salt_100g</th>\n",
       "      <th>sodium_100g</th>\n",
       "      <th>fruits-vegetables-nuts-estimate-from-ingredients_100g</th>\n",
       "    </tr>\n",
       "  </thead>\n",
       "  <tbody>\n",
       "    <tr>\n",
       "      <th>0</th>\n",
       "      <td>1130.0</td>\n",
       "      <td>1.5</td>\n",
       "      <td>23.0</td>\n",
       "      <td>5.263158</td>\n",
       "      <td>1.41</td>\n",
       "      <td>5.0</td>\n",
       "      <td>0.435</td>\n",
       "      <td>0.174</td>\n",
       "      <td>0.670268</td>\n",
       "    </tr>\n",
       "    <tr>\n",
       "      <th>1</th>\n",
       "      <td>1389.0</td>\n",
       "      <td>17.3</td>\n",
       "      <td>3.0</td>\n",
       "      <td>1.000000</td>\n",
       "      <td>1.41</td>\n",
       "      <td>23.0</td>\n",
       "      <td>1.200</td>\n",
       "      <td>0.480</td>\n",
       "      <td>0.000000</td>\n",
       "    </tr>\n",
       "    <tr>\n",
       "      <th>2</th>\n",
       "      <td>2415.0</td>\n",
       "      <td>28.0</td>\n",
       "      <td>30.0</td>\n",
       "      <td>27.000000</td>\n",
       "      <td>1.41</td>\n",
       "      <td>7.1</td>\n",
       "      <td>0.025</td>\n",
       "      <td>0.010</td>\n",
       "      <td>0.670268</td>\n",
       "    </tr>\n",
       "    <tr>\n",
       "      <th>3</th>\n",
       "      <td>1130.0</td>\n",
       "      <td>1.5</td>\n",
       "      <td>23.0</td>\n",
       "      <td>5.263158</td>\n",
       "      <td>1.41</td>\n",
       "      <td>5.0</td>\n",
       "      <td>0.435</td>\n",
       "      <td>0.174</td>\n",
       "      <td>100.000000</td>\n",
       "    </tr>\n",
       "    <tr>\n",
       "      <th>4</th>\n",
       "      <td>1130.0</td>\n",
       "      <td>1.5</td>\n",
       "      <td>23.0</td>\n",
       "      <td>5.263158</td>\n",
       "      <td>1.41</td>\n",
       "      <td>5.0</td>\n",
       "      <td>0.435</td>\n",
       "      <td>0.174</td>\n",
       "      <td>0.011335</td>\n",
       "    </tr>\n",
       "  </tbody>\n",
       "</table>\n",
       "</div>"
      ],
      "text/plain": [
       "   energy_100g  saturated-fat_100g  carbohydrates_100g  sugars_100g  \\\n",
       "0       1130.0                 1.5                23.0     5.263158   \n",
       "1       1389.0                17.3                 3.0     1.000000   \n",
       "2       2415.0                28.0                30.0    27.000000   \n",
       "3       1130.0                 1.5                23.0     5.263158   \n",
       "4       1130.0                 1.5                23.0     5.263158   \n",
       "\n",
       "   fiber_100g  proteins_100g  salt_100g  sodium_100g  \\\n",
       "0        1.41            5.0      0.435        0.174   \n",
       "1        1.41           23.0      1.200        0.480   \n",
       "2        1.41            7.1      0.025        0.010   \n",
       "3        1.41            5.0      0.435        0.174   \n",
       "4        1.41            5.0      0.435        0.174   \n",
       "\n",
       "   fruits-vegetables-nuts-estimate-from-ingredients_100g  \n",
       "0                                           0.670268      \n",
       "1                                           0.000000      \n",
       "2                                           0.670268      \n",
       "3                                         100.000000      \n",
       "4                                           0.011335      "
      ]
     },
     "metadata": {},
     "output_type": "display_data"
    },
    {
     "name": "stdout",
     "output_type": "stream",
     "text": [
      "\n",
      "Shape\n",
      "(300000, 9)\n"
     ]
    }
   ],
   "source": [
    "# Handle missing values by filling with median for numeric columns\n",
    "# Using median instead of mean to be more robust to outliers\n",
    "df_cleaned = df_cleaned.fillna(df_cleaned.median())\n",
    "\n",
    "# Verify no more NaN values exist\n",
    "print(\"\\nNumber of NaN values remaining:\")\n",
    "print(df_cleaned.isna().sum().sum())\n",
    "\n",
    "# Display first few rows to verify changes\n",
    "print(\"\\nFirst few rows after handling missing values:\")\n",
    "display(df_cleaned.head())\n",
    "\n",
    "print(\"\\nShape\")\n",
    "print(df_cleaned.shape)\n"
   ]
  },
  {
   "cell_type": "code",
   "execution_count": 11,
   "metadata": {},
   "outputs": [
    {
     "name": "stdout",
     "output_type": "stream",
     "text": [
      "First few rows of scaled data:\n"
     ]
    },
    {
     "data": {
      "text/html": [
       "<div>\n",
       "<style scoped>\n",
       "    .dataframe tbody tr th:only-of-type {\n",
       "        vertical-align: middle;\n",
       "    }\n",
       "\n",
       "    .dataframe tbody tr th {\n",
       "        vertical-align: top;\n",
       "    }\n",
       "\n",
       "    .dataframe thead th {\n",
       "        text-align: right;\n",
       "    }\n",
       "</style>\n",
       "<table border=\"1\" class=\"dataframe\">\n",
       "  <thead>\n",
       "    <tr style=\"text-align: right;\">\n",
       "      <th></th>\n",
       "      <th>energy_100g</th>\n",
       "      <th>saturated-fat_100g</th>\n",
       "      <th>carbohydrates_100g</th>\n",
       "      <th>sugars_100g</th>\n",
       "      <th>fiber_100g</th>\n",
       "      <th>proteins_100g</th>\n",
       "      <th>salt_100g</th>\n",
       "      <th>sodium_100g</th>\n",
       "      <th>fruits-vegetables-nuts-estimate-from-ingredients_100g</th>\n",
       "    </tr>\n",
       "  </thead>\n",
       "  <tbody>\n",
       "    <tr>\n",
       "      <th>0</th>\n",
       "      <td>-0.132443</td>\n",
       "      <td>-0.128699</td>\n",
       "      <td>-0.241186</td>\n",
       "      <td>-0.276767</td>\n",
       "      <td>-0.061343</td>\n",
       "      <td>-0.167041</td>\n",
       "      <td>-0.001826</td>\n",
       "      <td>-0.001826</td>\n",
       "      <td>-0.397388</td>\n",
       "    </tr>\n",
       "    <tr>\n",
       "      <th>1</th>\n",
       "      <td>-0.013832</td>\n",
       "      <td>0.449043</td>\n",
       "      <td>-0.540719</td>\n",
       "      <td>-0.378831</td>\n",
       "      <td>-0.061343</td>\n",
       "      <td>0.625166</td>\n",
       "      <td>-0.001826</td>\n",
       "      <td>-0.001826</td>\n",
       "      <td>-0.425239</td>\n",
       "    </tr>\n",
       "    <tr>\n",
       "      <th>2</th>\n",
       "      <td>0.456029</td>\n",
       "      <td>0.840298</td>\n",
       "      <td>-0.136349</td>\n",
       "      <td>0.243635</td>\n",
       "      <td>-0.061343</td>\n",
       "      <td>-0.074617</td>\n",
       "      <td>-0.001826</td>\n",
       "      <td>-0.001826</td>\n",
       "      <td>-0.397388</td>\n",
       "    </tr>\n",
       "    <tr>\n",
       "      <th>3</th>\n",
       "      <td>-0.132443</td>\n",
       "      <td>-0.128699</td>\n",
       "      <td>-0.241186</td>\n",
       "      <td>-0.276767</td>\n",
       "      <td>-0.061343</td>\n",
       "      <td>-0.167041</td>\n",
       "      <td>-0.001826</td>\n",
       "      <td>-0.001826</td>\n",
       "      <td>3.730039</td>\n",
       "    </tr>\n",
       "    <tr>\n",
       "      <th>4</th>\n",
       "      <td>-0.132443</td>\n",
       "      <td>-0.128699</td>\n",
       "      <td>-0.241186</td>\n",
       "      <td>-0.276767</td>\n",
       "      <td>-0.061343</td>\n",
       "      <td>-0.167041</td>\n",
       "      <td>-0.001826</td>\n",
       "      <td>-0.001826</td>\n",
       "      <td>-0.424768</td>\n",
       "    </tr>\n",
       "  </tbody>\n",
       "</table>\n",
       "</div>"
      ],
      "text/plain": [
       "   energy_100g  saturated-fat_100g  carbohydrates_100g  sugars_100g  \\\n",
       "0    -0.132443           -0.128699           -0.241186    -0.276767   \n",
       "1    -0.013832            0.449043           -0.540719    -0.378831   \n",
       "2     0.456029            0.840298           -0.136349     0.243635   \n",
       "3    -0.132443           -0.128699           -0.241186    -0.276767   \n",
       "4    -0.132443           -0.128699           -0.241186    -0.276767   \n",
       "\n",
       "   fiber_100g  proteins_100g  salt_100g  sodium_100g  \\\n",
       "0   -0.061343      -0.167041  -0.001826    -0.001826   \n",
       "1   -0.061343       0.625166  -0.001826    -0.001826   \n",
       "2   -0.061343      -0.074617  -0.001826    -0.001826   \n",
       "3   -0.061343      -0.167041  -0.001826    -0.001826   \n",
       "4   -0.061343      -0.167041  -0.001826    -0.001826   \n",
       "\n",
       "   fruits-vegetables-nuts-estimate-from-ingredients_100g  \n",
       "0                                          -0.397388      \n",
       "1                                          -0.425239      \n",
       "2                                          -0.397388      \n",
       "3                                           3.730039      \n",
       "4                                          -0.424768      "
      ]
     },
     "metadata": {},
     "output_type": "display_data"
    },
    {
     "name": "stdout",
     "output_type": "stream",
     "text": [
      "\n",
      "Mean of scaled features:\n",
      "energy_100g                                             -0.0\n",
      "saturated-fat_100g                                       0.0\n",
      "carbohydrates_100g                                      -0.0\n",
      "sugars_100g                                              0.0\n",
      "fiber_100g                                              -0.0\n",
      "proteins_100g                                           -0.0\n",
      "salt_100g                                                0.0\n",
      "sodium_100g                                             -0.0\n",
      "fruits-vegetables-nuts-estimate-from-ingredients_100g   -0.0\n",
      "dtype: float64\n",
      "\n",
      "Standard deviation of scaled features:\n",
      "energy_100g                                              1.0\n",
      "saturated-fat_100g                                       1.0\n",
      "carbohydrates_100g                                       1.0\n",
      "sugars_100g                                              1.0\n",
      "fiber_100g                                               1.0\n",
      "proteins_100g                                            1.0\n",
      "salt_100g                                                1.0\n",
      "sodium_100g                                              1.0\n",
      "fruits-vegetables-nuts-estimate-from-ingredients_100g    1.0\n",
      "dtype: float64\n"
     ]
    }
   ],
   "source": [
    "# Scale features using StandardScaler\n",
    "scaler = StandardScaler()\n",
    "df_scaled = pd.DataFrame(\n",
    "    scaler.fit_transform(df_cleaned),\n",
    "    columns=df_cleaned.columns\n",
    ")\n",
    "\n",
    "# Display first few rows of scaled data\n",
    "print(\"First few rows of scaled data:\")\n",
    "display(df_scaled.head())\n",
    "\n",
    "# Verify scaling - mean should be ~0 and std should be ~1\n",
    "print(\"\\nMean of scaled features:\")\n",
    "print(df_scaled.mean().round(2))\n",
    "print(\"\\nStandard deviation of scaled features:\")\n",
    "print(df_scaled.std().round(2))\n",
    "\n"
   ]
  },
  {
   "cell_type": "code",
   "execution_count": 12,
   "metadata": {},
   "outputs": [
    {
     "name": "stdout",
     "output_type": "stream",
     "text": [
      "Shape before removing outliers: (300000, 9)\n",
      "Shape after removing outliers: (146881, 9)\n",
      "Removed 153119 outliers\n"
     ]
    }
   ],
   "source": [
    "# Remove outliers using IQR method\n",
    "def remove_outliers(df):\n",
    "    Q1 = df.quantile(0.25)\n",
    "    Q3 = df.quantile(0.75)\n",
    "    IQR = Q3 - Q1\n",
    "    \n",
    "    # Define bounds\n",
    "    lower_bound = Q1 - 1.5 * IQR \n",
    "    upper_bound = Q3 + 1.5 * IQR\n",
    "    \n",
    "    # Create mask for values within bounds\n",
    "    mask = ~((df < lower_bound) | (df > upper_bound)).any(axis=1)\n",
    "    \n",
    "    return df[mask]\n",
    "\n",
    "# Remove outliers and store in new DataFrame\n",
    "print(\"Shape before removing outliers:\", df_scaled.shape)\n",
    "df_scaled_no_outliers = remove_outliers(df_scaled)\n",
    "print(\"Shape after removing outliers:\", df_scaled_no_outliers.shape)\n",
    "print(f\"Removed {df_scaled.shape[0] - df_scaled_no_outliers.shape[0]} outliers\")\n",
    "\n",
    "# Update original data without outliers for consistency\n",
    "df_cleaned = df_cleaned.loc[df_scaled_no_outliers.index]\n"
   ]
  },
  {
   "cell_type": "code",
   "execution_count": 11,
   "metadata": {},
   "outputs": [],
   "source": [
    "# Create cleaned dataset\n"
   ]
  },
  {
   "cell_type": "markdown",
   "metadata": {},
   "source": [
    "### Feature Engineering"
   ]
  },
  {
   "cell_type": "code",
   "execution_count": 12,
   "metadata": {},
   "outputs": [],
   "source": [
    "# Create new features\n"
   ]
  },
  {
   "cell_type": "code",
   "execution_count": 17,
   "metadata": {},
   "outputs": [
    {
     "name": "stdout",
     "output_type": "stream",
     "text": [
      "Taking a sample of 10000 rows for PCA visualization...\n",
      "Performing PCA...\n",
      "Explained variance ratio: [9.99078477e-01 7.18159776e-04]\n",
      "Cumulative explained variance ratio: [0.99907848 0.99979664]\n",
      "Creating visualization plots...\n"
     ]
    },
    {
     "data": {
      "image/png": "[encoded data removed]",
      "text/plain": [
       "<Figure size 1000x600 with 1 Axes>"
      ]
     },
     "metadata": {},
     "output_type": "display_data"
    },
    {
     "data": {
      "image/png": "[encoded data removed]",
      "text/plain": [
       "<Figure size 1000x600 with 1 Axes>"
      ]
     },
     "metadata": {},
     "output_type": "display_data"
    }
   ],
   "source": [
    "# Take a smaller sample for visualization (10,000 rows)\n",
    "sample_size = 10000\n",
    "print(f\"Taking a sample of {sample_size} rows for PCA visualization...\")\n",
    "df_sample = df_cleaned.sample(n=sample_size, random_state=42)\n",
    "\n",
    "# Initialize PCA with 2 components for visualization\n",
    "print(\"Performing PCA...\")\n",
    "pca = PCA(n_components=2, random_state=42)\n",
    "pca_result = pca.fit_transform(df_sample.values)\n",
    "\n",
    "# Calculate explained variance ratio\n",
    "print('Explained variance ratio:', pca.explained_variance_ratio_)\n",
    "print('Cumulative explained variance ratio:', np.cumsum(pca.explained_variance_ratio_))\n",
    "\n",
    "# Plot PCA results\n",
    "print(\"Creating visualization plots...\")\n",
    "plt.figure(figsize=(10, 6))\n",
    "plt.scatter(pca_result[:, 0], pca_result[:, 1], alpha=0.5)\n",
    "plt.title('PCA of the Data (Sample)')\n",
    "plt.xlabel('First Principal Component')\n",
    "plt.ylabel('Second Principal Component')\n",
    "plt.show()\n",
    "\n",
    "# Plot explained variance ratio\n",
    "plt.figure(figsize=(10, 6))\n",
    "plt.plot(range(1, len(pca.explained_variance_ratio_) + 1), \n",
    "         np.cumsum(pca.explained_variance_ratio_), 'bo-')\n",
    "plt.xlabel('Number of Components')\n",
    "plt.ylabel('Cumulative Explained Variance Ratio')\n",
    "plt.title('Explained Variance Ratio vs. Number of Components')\n",
    "plt.grid(True)\n",
    "plt.show()"
   ]
  },
  {
   "cell_type": "code",
   "execution_count": 14,
   "metadata": {},
   "outputs": [],
   "source": [
    "# Analyze feature importance and correlations\n"
   ]
  },
  {
   "cell_type": "markdown",
   "metadata": {},
   "source": [
    "### Clustering Analysis"
   ]
  },
  {
   "cell_type": "code",
   "execution_count": null,
   "metadata": {},
   "outputs": [],
   "source": [
    "# ### Dimensionality Reduction\n",
    "# print(\"Original data shape:\", df_cleaned.shape)\n",
    "\n",
    "# # Apply UMAP reduction\n",
    "# reduced_data = reduce_dimensions(df_cleaned.values)\n",
    "# print(\"Reduced data shape:\", reduced_data.shape)\n",
    "\n",
    "# # Visualize the reduced data\n",
    "# plt.figure(figsize=(10, 6))\n",
    "# plt.scatter(reduced_data[:, 0], reduced_data[:, 1], alpha=0.5)\n",
    "# plt.title('UMAP Projection of the Data')\n",
    "# plt.xlabel('UMAP 1')\n",
    "# plt.ylabel('UMAP 2')\n",
    "# plt.show()"
   ]
  },
  {
   "cell_type": "markdown",
   "metadata": {},
   "source": [
    "- #### K-Means"
   ]
  },
  {
   "cell_type": "code",
   "execution_count": 14,
   "metadata": {},
   "outputs": [
    {
     "ename": "NameError",
     "evalue": "name 'reduced_data' is not defined",
     "output_type": "error",
     "traceback": [
      "\u001b[31m---------------------------------------------------------------------------\u001b[39m",
      "\u001b[31mNameError\u001b[39m                                 Traceback (most recent call last)",
      "\u001b[36mCell\u001b[39m\u001b[36m \u001b[39m\u001b[32mIn[14]\u001b[39m\u001b[32m, line 2\u001b[39m\n\u001b[32m      1\u001b[39m \u001b[38;5;66;03m# Determine optimal number of clusters\u001b[39;00m\n\u001b[32m----> \u001b[39m\u001b[32m2\u001b[39m plot_elbow_method(\u001b[43mreduced_data\u001b[49m)\n",
      "\u001b[31mNameError\u001b[39m: name 'reduced_data' is not defined"
     ]
    }
   ],
   "source": [
    "# Determine optimal number of clusters\n",
    "plot_elbow_method(reduced_data)"
   ]
  },
  {
   "cell_type": "code",
   "execution_count": null,
   "metadata": {},
   "outputs": [],
   "source": [
    "# Perform clustering\n",
    "kmeans, labels, metrics = kmeans_clustering(reduced_data)"
   ]
  },
  {
   "cell_type": "code",
   "execution_count": null,
   "metadata": {},
   "outputs": [],
   "source": [
    "# Plot clusters in the reduced space\n",
    "plot_clusters_2d(reduced_data, labels, \n",
    "                title=\"K-means Clustering Results on UMAP Reduced Data\")"
   ]
  },
  {
   "cell_type": "code",
   "execution_count": null,
   "metadata": {},
   "outputs": [],
   "source": [
    "# Show cluster sizes\n",
    "plot_cluster_sizes(labels)"
   ]
  },
  {
   "cell_type": "code",
   "execution_count": null,
   "metadata": {},
   "outputs": [],
   "source": [
    "### Feature Analysis\n",
    "# Create feature relationship plots using original data\n",
    "feature_names = df_cleaned.columns.tolist()\n",
    "plot_feature_relationships(\n",
    "    data=df_cleaned.values,  # Using original data, not reduced_data\n",
    "    labels=labels,\n",
    "    feature_names=feature_names,\n",
    "    n_features=5  # Adjust based on how many features you want to compare\n",
    ")"
   ]
  },
  {
   "cell_type": "code",
   "execution_count": 16,
   "metadata": {},
   "outputs": [
    {
     "ename": "NameError",
     "evalue": "name 'KMeans' is not defined",
     "output_type": "error",
     "traceback": [
      "\u001b[31m---------------------------------------------------------------------------\u001b[39m",
      "\u001b[31mNameError\u001b[39m                                 Traceback (most recent call last)",
      "\u001b[36mCell\u001b[39m\u001b[36m \u001b[39m\u001b[32mIn[16]\u001b[39m\u001b[32m, line 6\u001b[39m\n\u001b[32m      4\u001b[39m K = \u001b[38;5;28mrange\u001b[39m(\u001b[32m1\u001b[39m, \u001b[32m11\u001b[39m)\n\u001b[32m      5\u001b[39m \u001b[38;5;28;01mfor\u001b[39;00m k \u001b[38;5;129;01min\u001b[39;00m K:\n\u001b[32m----> \u001b[39m\u001b[32m6\u001b[39m     kmeans = \u001b[43mKMeans\u001b[49m(n_clusters=k, random_state=\u001b[32m42\u001b[39m)\n\u001b[32m      7\u001b[39m     kmeans.fit(pca_result)\n\u001b[32m      8\u001b[39m     inertias.append(kmeans.inertia_)\n",
      "\u001b[31mNameError\u001b[39m: name 'KMeans' is not defined"
     ]
    }
   ],
   "source": [
    "# First, plot elbow method to determine optimal number of clusters\n",
    "print(\"Plotting elbow method...\")\n",
    "plot_elbow_method(pca_result)\n",
    "\n",
    "# Perform K-means clustering\n",
    "print(\"Performing K-means clustering...\")\n",
    "kmeans, labels, metrics = kmeans_clustering(pca_result)\n",
    "\n",
    "# Plot clusters\n",
    "plt.figure(figsize=(10, 6))\n",
    "scatter = plt.scatter(pca_result[:, 0], pca_result[:, 1], \n",
    "                     c=labels, cmap='viridis', alpha=0.5)\n",
    "plt.title('K-means Clustering on PCA Results')\n",
    "plt.xlabel('First Principal Component')\n",
    "plt.ylabel('Second Principal Component')\n",
    "plt.colorbar(scatter)\n",
    "plt.show()\n",
    "\n",
    "# Print cluster sizes\n",
    "print(\"\\nCluster sizes:\")\n",
    "for i in range(len(np.unique(labels))):\n",
    "    print(f\"Cluster {i}: {np.sum(labels == i)} samples\")\n",
    "\n",
    "# Print additional metrics\n",
    "print(\"\\nClustering metrics:\")\n",
    "print(f\"Inertia: {metrics['inertia']:.2f}\")\n",
    "print(f\"Number of iterations: {metrics['n_iter']}\")"
   ]
  },
  {
   "cell_type": "code",
   "execution_count": 21,
   "metadata": {},
   "outputs": [],
   "source": [
    "# DBSCAN clustering"
   ]
  },
  {
   "cell_type": "code",
   "execution_count": 22,
   "metadata": {},
   "outputs": [],
   "source": [
    "# Gaussian Mixture Model (GMM) clustering\n"
   ]
  },
  {
   "cell_type": "code",
   "execution_count": 23,
   "metadata": {},
   "outputs": [],
   "source": [
    "# Hierarchical clustering\n"
   ]
  },
  {
   "cell_type": "markdown",
   "metadata": {},
   "source": [
    "### Cluster evaluation and comparison"
   ]
  },
  {
   "cell_type": "code",
   "execution_count": 24,
   "metadata": {},
   "outputs": [],
   "source": [
    "# Compare clustering results using metrics (Silhouette score, Calinski-Harabasz index, Davies-Bouldin index)"
   ]
  },
  {
   "cell_type": "code",
   "execution_count": 25,
   "metadata": {},
   "outputs": [],
   "source": [
    "# Visualize cluster comparisons (word clouds, ...)"
   ]
  },
  {
   "cell_type": "code",
   "execution_count": 26,
   "metadata": {},
   "outputs": [],
   "source": [
    "# Analyse cluster characteristics and interpret results"
   ]
  },
  {
   "cell_type": "markdown",
   "metadata": {},
   "source": [
    "### Visualization and Insights"
   ]
  },
  {
   "cell_type": "code",
   "execution_count": 27,
   "metadata": {},
   "outputs": [],
   "source": [
    "# Various visualizations (cluster distribution plots, feature importance within clusters, pairplots with key features, heatmaps of cluster characteristics)\n"
   ]
  },
  {
   "cell_type": "code",
   "execution_count": 28,
   "metadata": {},
   "outputs": [],
   "source": [
    "# Generate insights about food product groupings"
   ]
  },
  {
   "cell_type": "code",
   "execution_count": 29,
   "metadata": {},
   "outputs": [],
   "source": [
    "# Indentify patterns and trends in the clusters"
   ]
  },
  {
   "cell_type": "markdown",
   "metadata": {},
   "source": [
    "### Conclusions and recommendations"
   ]
  },
  {
   "cell_type": "code",
   "execution_count": 30,
   "metadata": {},
   "outputs": [],
   "source": [
    "# Summarize findings\n"
   ]
  },
  {
   "cell_type": "code",
   "execution_count": 31,
   "metadata": {},
   "outputs": [],
   "source": [
    "# Compare strengths and weaknesses of different clustering methods\n"
   ]
  },
  {
   "cell_type": "code",
   "execution_count": 32,
   "metadata": {},
   "outputs": [],
   "source": [
    "# Provide recommendations for practical applications\n"
   ]
  },
  {
   "cell_type": "code",
   "execution_count": 33,
   "metadata": {},
   "outputs": [],
   "source": [
    "#Suggest potential areas for futher analysis"
   ]
  }
 ],
 "metadata": {
  "kernelspec": {
   "display_name": "clustering-openfoodfacts",
   "language": "python",
   "name": "python3"
  },
  "language_info": {
   "codemirror_mode": {
    "name": "ipython",
    "version": 3
   },
   "file_extension": ".py",
   "mimetype": "text/x-python",
   "name": "python",
   "nbconvert_exporter": "python",
   "pygments_lexer": "ipython3",
   "version": "3.12.9"
  }
 },
 "nbformat": 4,
 "nbformat_minor": 2
}
