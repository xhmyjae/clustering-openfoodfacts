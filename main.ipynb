{
 "cells": [
  {
   "cell_type": "markdown",
   "metadata": {},
   "source": [
    "# Clustering on Open Food Facts dataset"
   ]
  },
  {
   "cell_type": "markdown",
   "metadata": {},
   "source": [
    "### Load data"
   ]
  },
  {
   "cell_type": "code",
   "execution_count": 1,
   "metadata": {},
   "outputs": [],
   "source": [
    "# Imports libraries\n",
    "import pandas as pd\n",
    "import numpy as np"
   ]
  },
  {
   "cell_type": "code",
   "execution_count": 2,
   "metadata": {},
   "outputs": [
    {
     "name": "stderr",
     "output_type": "stream",
     "text": [
      "C:\\Users\\jaech\\AppData\\Local\\Temp\\ipykernel_10480\\4190858480.py:4: ParserWarning: Falling back to the 'python' engine because the 'c' engine does not support regex separators (separators > 1 char and different from '\\s+' are interpreted as regex); you can avoid this warning by specifying engine='python'.\n",
      "  df = pd.read_csv(path,\n"
     ]
    }
   ],
   "source": [
    "# Load Open Food Facts dataset csv\n",
    "path = \"data/en.openfoodfacts.org.products.csv\"\n",
    "\n",
    "df = pd.read_csv(path, \n",
    "                 sep='\\\\t', \n",
    "                 encoding=\"utf-8\",\n",
    "                 on_bad_lines='skip',\n",
    "                 nrows=300000)"
   ]
  },
  {
   "cell_type": "code",
   "execution_count": 3,
   "metadata": {},
   "outputs": [
    {
     "name": "stdout",
     "output_type": "stream",
     "text": [
      "Dataset shape: (300000, 206)\n",
      "\n",
      "First few rows:\n"
     ]
    },
    {
     "data": {
      "text/html": [
       "<div>\n",
       "<style scoped>\n",
       "    .dataframe tbody tr th:only-of-type {\n",
       "        vertical-align: middle;\n",
       "    }\n",
       "\n",
       "    .dataframe tbody tr th {\n",
       "        vertical-align: top;\n",
       "    }\n",
       "\n",
       "    .dataframe thead th {\n",
       "        text-align: right;\n",
       "    }\n",
       "</style>\n",
       "<table border=\"1\" class=\"dataframe\">\n",
       "  <thead>\n",
       "    <tr style=\"text-align: right;\">\n",
       "      <th></th>\n",
       "      <th>code</th>\n",
       "      <th>url</th>\n",
       "      <th>creator</th>\n",
       "      <th>created_t</th>\n",
       "      <th>created_datetime</th>\n",
       "      <th>last_modified_t</th>\n",
       "      <th>last_modified_datetime</th>\n",
       "      <th>last_modified_by</th>\n",
       "      <th>last_updated_t</th>\n",
       "      <th>last_updated_datetime</th>\n",
       "      <th>...</th>\n",
       "      <th>glycemic-index_100g</th>\n",
       "      <th>water-hardness_100g</th>\n",
       "      <th>choline_100g</th>\n",
       "      <th>phylloquinone_100g</th>\n",
       "      <th>beta-glucan_100g</th>\n",
       "      <th>inositol_100g</th>\n",
       "      <th>carnitine_100g</th>\n",
       "      <th>sulphate_100g</th>\n",
       "      <th>nitrate_100g</th>\n",
       "      <th>acidity_100g</th>\n",
       "    </tr>\n",
       "  </thead>\n",
       "  <tbody>\n",
       "    <tr>\n",
       "      <th>0</th>\n",
       "      <td>54</td>\n",
       "      <td>http://world-en.openfoodfacts.org/product/0000...</td>\n",
       "      <td>kiliweb</td>\n",
       "      <td>1582569031</td>\n",
       "      <td>2020-02-24T18:30:31Z</td>\n",
       "      <td>1733085204</td>\n",
       "      <td>2024-12-01T20:33:24Z</td>\n",
       "      <td>NaN</td>\n",
       "      <td>1.740205e+09</td>\n",
       "      <td>2025-02-22T06:23:42Z</td>\n",
       "      <td>...</td>\n",
       "      <td>NaN</td>\n",
       "      <td>NaN</td>\n",
       "      <td>NaN</td>\n",
       "      <td>NaN</td>\n",
       "      <td>NaN</td>\n",
       "      <td>NaN</td>\n",
       "      <td>NaN</td>\n",
       "      <td>NaN</td>\n",
       "      <td>NaN</td>\n",
       "      <td>NaN</td>\n",
       "    </tr>\n",
       "    <tr>\n",
       "      <th>1</th>\n",
       "      <td>63</td>\n",
       "      <td>http://world-en.openfoodfacts.org/product/0000...</td>\n",
       "      <td>kiliweb</td>\n",
       "      <td>1673620307</td>\n",
       "      <td>2023-01-13T14:31:47Z</td>\n",
       "      <td>1739902555</td>\n",
       "      <td>2025-02-18T18:15:55Z</td>\n",
       "      <td>waistline-app</td>\n",
       "      <td>1.740360e+09</td>\n",
       "      <td>2025-02-24T01:26:17Z</td>\n",
       "      <td>...</td>\n",
       "      <td>NaN</td>\n",
       "      <td>NaN</td>\n",
       "      <td>NaN</td>\n",
       "      <td>NaN</td>\n",
       "      <td>NaN</td>\n",
       "      <td>NaN</td>\n",
       "      <td>NaN</td>\n",
       "      <td>NaN</td>\n",
       "      <td>NaN</td>\n",
       "      <td>NaN</td>\n",
       "    </tr>\n",
       "    <tr>\n",
       "      <th>2</th>\n",
       "      <td>114</td>\n",
       "      <td>http://world-en.openfoodfacts.org/product/0000...</td>\n",
       "      <td>kiliweb</td>\n",
       "      <td>1580066482</td>\n",
       "      <td>2020-01-26T19:21:22Z</td>\n",
       "      <td>1737247862</td>\n",
       "      <td>2025-01-19T00:51:02Z</td>\n",
       "      <td>smoothie-app</td>\n",
       "      <td>1.740075e+09</td>\n",
       "      <td>2025-02-20T18:10:18Z</td>\n",
       "      <td>...</td>\n",
       "      <td>NaN</td>\n",
       "      <td>NaN</td>\n",
       "      <td>NaN</td>\n",
       "      <td>NaN</td>\n",
       "      <td>NaN</td>\n",
       "      <td>NaN</td>\n",
       "      <td>NaN</td>\n",
       "      <td>NaN</td>\n",
       "      <td>NaN</td>\n",
       "      <td>NaN</td>\n",
       "    </tr>\n",
       "    <tr>\n",
       "      <th>3</th>\n",
       "      <td>1</td>\n",
       "      <td>http://world-en.openfoodfacts.org/product/0000...</td>\n",
       "      <td>inf</td>\n",
       "      <td>1634745456</td>\n",
       "      <td>2021-10-20T15:57:36Z</td>\n",
       "      <td>1742247341</td>\n",
       "      <td>2025-03-17T21:35:41Z</td>\n",
       "      <td>roboto-app</td>\n",
       "      <td>1.742247e+09</td>\n",
       "      <td>2025-03-17T21:35:41Z</td>\n",
       "      <td>...</td>\n",
       "      <td>NaN</td>\n",
       "      <td>NaN</td>\n",
       "      <td>NaN</td>\n",
       "      <td>NaN</td>\n",
       "      <td>NaN</td>\n",
       "      <td>NaN</td>\n",
       "      <td>NaN</td>\n",
       "      <td>NaN</td>\n",
       "      <td>NaN</td>\n",
       "      <td>NaN</td>\n",
       "    </tr>\n",
       "    <tr>\n",
       "      <th>4</th>\n",
       "      <td>105</td>\n",
       "      <td>http://world-en.openfoodfacts.org/product/0000...</td>\n",
       "      <td>kiliweb</td>\n",
       "      <td>1572117743</td>\n",
       "      <td>2019-10-26T19:22:23Z</td>\n",
       "      <td>1738073570</td>\n",
       "      <td>2025-01-28T14:12:50Z</td>\n",
       "      <td>NaN</td>\n",
       "      <td>1.740085e+09</td>\n",
       "      <td>2025-02-20T20:57:12Z</td>\n",
       "      <td>...</td>\n",
       "      <td>NaN</td>\n",
       "      <td>NaN</td>\n",
       "      <td>NaN</td>\n",
       "      <td>NaN</td>\n",
       "      <td>NaN</td>\n",
       "      <td>NaN</td>\n",
       "      <td>NaN</td>\n",
       "      <td>NaN</td>\n",
       "      <td>NaN</td>\n",
       "      <td>NaN</td>\n",
       "    </tr>\n",
       "  </tbody>\n",
       "</table>\n",
       "<p>5 rows × 206 columns</p>\n",
       "</div>"
      ],
      "text/plain": [
       "   code                                                url  creator  \\\n",
       "0    54  http://world-en.openfoodfacts.org/product/0000...  kiliweb   \n",
       "1    63  http://world-en.openfoodfacts.org/product/0000...  kiliweb   \n",
       "2   114  http://world-en.openfoodfacts.org/product/0000...  kiliweb   \n",
       "3     1  http://world-en.openfoodfacts.org/product/0000...      inf   \n",
       "4   105  http://world-en.openfoodfacts.org/product/0000...  kiliweb   \n",
       "\n",
       "    created_t      created_datetime  last_modified_t last_modified_datetime  \\\n",
       "0  1582569031  2020-02-24T18:30:31Z       1733085204   2024-12-01T20:33:24Z   \n",
       "1  1673620307  2023-01-13T14:31:47Z       1739902555   2025-02-18T18:15:55Z   \n",
       "2  1580066482  2020-01-26T19:21:22Z       1737247862   2025-01-19T00:51:02Z   \n",
       "3  1634745456  2021-10-20T15:57:36Z       1742247341   2025-03-17T21:35:41Z   \n",
       "4  1572117743  2019-10-26T19:22:23Z       1738073570   2025-01-28T14:12:50Z   \n",
       "\n",
       "  last_modified_by  last_updated_t last_updated_datetime  ...  \\\n",
       "0              NaN    1.740205e+09  2025-02-22T06:23:42Z  ...   \n",
       "1    waistline-app    1.740360e+09  2025-02-24T01:26:17Z  ...   \n",
       "2     smoothie-app    1.740075e+09  2025-02-20T18:10:18Z  ...   \n",
       "3       roboto-app    1.742247e+09  2025-03-17T21:35:41Z  ...   \n",
       "4              NaN    1.740085e+09  2025-02-20T20:57:12Z  ...   \n",
       "\n",
       "  glycemic-index_100g water-hardness_100g choline_100g phylloquinone_100g  \\\n",
       "0                 NaN                 NaN          NaN                NaN   \n",
       "1                 NaN                 NaN          NaN                NaN   \n",
       "2                 NaN                 NaN          NaN                NaN   \n",
       "3                 NaN                 NaN          NaN                NaN   \n",
       "4                 NaN                 NaN          NaN                NaN   \n",
       "\n",
       "  beta-glucan_100g inositol_100g carnitine_100g sulphate_100g nitrate_100g  \\\n",
       "0              NaN           NaN            NaN           NaN          NaN   \n",
       "1              NaN           NaN            NaN           NaN          NaN   \n",
       "2              NaN           NaN            NaN           NaN          NaN   \n",
       "3              NaN           NaN            NaN           NaN          NaN   \n",
       "4              NaN           NaN            NaN           NaN          NaN   \n",
       "\n",
       "  acidity_100g  \n",
       "0          NaN  \n",
       "1          NaN  \n",
       "2          NaN  \n",
       "3          NaN  \n",
       "4          NaN  \n",
       "\n",
       "[5 rows x 206 columns]"
      ]
     },
     "metadata": {},
     "output_type": "display_data"
    }
   ],
   "source": [
    "# Display basic information about the dataset\n",
    "print(\"Dataset shape:\", df.shape)\n",
    "print(\"\\nFirst few rows:\")\n",
    "display(df.head())"
   ]
  },
  {
   "cell_type": "code",
   "execution_count": 4,
   "metadata": {},
   "outputs": [
    {
     "name": "stdout",
     "output_type": "stream",
     "text": [
      "(300000, 206)\n"
     ]
    }
   ],
   "source": [
    "# Display number of rows and columns\n",
    "print(df.shape)"
   ]
  },
  {
   "cell_type": "code",
   "execution_count": null,
   "metadata": {},
   "outputs": [],
   "source": [
    "# Show summary statistics of numeric columns\n",
    "# Display detailed summary statistics of numeric columns\n",
    "print(\"\\nSummary statistics of numeric columns:\")\n",
    "print(df.describe(include=[np.number], percentiles=[.05, .25, .5, .75, .95]))\n",
    "\n",
    "# Show additional statistics\n",
    "print(\"\\nSkewness of numeric columns:\")\n",
    "print(df.select_dtypes(include=[np.number]).skew())\n",
    "\n",
    "print(\"\\nKurtosis of numeric columns:\")\n",
    "print(df.select_dtypes(include=[np.number]).kurtosis())\n",
    "\n",
    "# Count number of non-null values for each numeric column\n",
    "print(\"\\nNumber of non-null values in numeric columns:\")\n",
    "print(df.select_dtypes(include=[np.number]).count())\n",
    "\n"
   ]
  },
  {
   "cell_type": "markdown",
   "metadata": {},
   "source": [
    "### Data Processing"
   ]
  },
  {
   "cell_type": "code",
   "execution_count": 1,
   "metadata": {},
   "outputs": [],
   "source": [
    "# Handle missing values"
   ]
  },
  {
   "cell_type": "code",
   "execution_count": null,
   "metadata": {},
   "outputs": [],
   "source": [
    "# Select relevant features for clustering\n"
   ]
  },
  {
   "cell_type": "code",
   "execution_count": null,
   "metadata": {},
   "outputs": [],
   "source": [
    "# Scale/normalize features\n"
   ]
  },
  {
   "cell_type": "code",
   "execution_count": null,
   "metadata": {},
   "outputs": [],
   "source": [
    "# Remove outliers\n"
   ]
  },
  {
   "cell_type": "code",
   "execution_count": null,
   "metadata": {},
   "outputs": [],
   "source": [
    "# Create cleaned dataset\n"
   ]
  },
  {
   "cell_type": "markdown",
   "metadata": {},
   "source": [
    "### Feature Engineering"
   ]
  },
  {
   "cell_type": "code",
   "execution_count": null,
   "metadata": {},
   "outputs": [],
   "source": [
    "# Create new features\n"
   ]
  },
  {
   "cell_type": "code",
   "execution_count": null,
   "metadata": {},
   "outputs": [],
   "source": [
    "# Do PCA to visualize high-dimensional data\n"
   ]
  },
  {
   "cell_type": "code",
   "execution_count": null,
   "metadata": {},
   "outputs": [],
   "source": [
    "# Analyze feature importance and correlations\n"
   ]
  },
  {
   "cell_type": "markdown",
   "metadata": {},
   "source": [
    "### Clustering Analysis"
   ]
  },
  {
   "cell_type": "code",
   "execution_count": null,
   "metadata": {},
   "outputs": [],
   "source": [
    "# Kmeans clustering\n",
    "\n",
    "# Implement\n",
    "# Determine optimal number of clusters\n",
    "# Visualize clusters\n",
    "# Analyze cluster characteristics\n"
   ]
  },
  {
   "cell_type": "code",
   "execution_count": null,
   "metadata": {},
   "outputs": [],
   "source": [
    "# DBSCAN clustering\n"
   ]
  },
  {
   "cell_type": "code",
   "execution_count": null,
   "metadata": {},
   "outputs": [],
   "source": [
    "# Gaussian Mixture Model (GMM) clustering\n"
   ]
  },
  {
   "cell_type": "code",
   "execution_count": null,
   "metadata": {},
   "outputs": [],
   "source": [
    "# Hierarchical clustering\n"
   ]
  },
  {
   "cell_type": "markdown",
   "metadata": {},
   "source": [
    "### Cluster evaluation and comparison"
   ]
  },
  {
   "cell_type": "code",
   "execution_count": null,
   "metadata": {},
   "outputs": [],
   "source": [
    "# Compare clustering results using metrics (Silhouette score, Calinski-Harabasz index, Davies-Bouldin index)\n"
   ]
  },
  {
   "cell_type": "code",
   "execution_count": null,
   "metadata": {},
   "outputs": [],
   "source": [
    "# Visualize cluster comparisons"
   ]
  },
  {
   "cell_type": "code",
   "execution_count": null,
   "metadata": {},
   "outputs": [],
   "source": [
    "# Analyse cluster characteristics and interpret results\n"
   ]
  },
  {
   "cell_type": "markdown",
   "metadata": {},
   "source": [
    "### Visualization and Insights"
   ]
  },
  {
   "cell_type": "code",
   "execution_count": null,
   "metadata": {},
   "outputs": [],
   "source": [
    "# Various visualizations (cluster distribution plots, feature importance within clusters, pairplots with key features, heatmaps of cluster characteristics)\n"
   ]
  },
  {
   "cell_type": "code",
   "execution_count": null,
   "metadata": {},
   "outputs": [],
   "source": [
    "# Generate insights about food product groupings"
   ]
  },
  {
   "cell_type": "code",
   "execution_count": null,
   "metadata": {},
   "outputs": [],
   "source": [
    "# Indentify patterns and trends in the clusters"
   ]
  },
  {
   "cell_type": "markdown",
   "metadata": {},
   "source": [
    "### Conclusions and recommendations"
   ]
  },
  {
   "cell_type": "code",
   "execution_count": null,
   "metadata": {},
   "outputs": [],
   "source": [
    "# Summarize findings\n"
   ]
  },
  {
   "cell_type": "code",
   "execution_count": null,
   "metadata": {},
   "outputs": [],
   "source": [
    "# Compare strengths and weaknesses of different clustering methods\n"
   ]
  },
  {
   "cell_type": "code",
   "execution_count": null,
   "metadata": {},
   "outputs": [],
   "source": [
    "# Provide recommendations for practical applications\n"
   ]
  },
  {
   "cell_type": "code",
   "execution_count": null,
   "metadata": {},
   "outputs": [],
   "source": [
    "#Suggest potential areas for futher analysis"
   ]
  }
 ],
 "metadata": {
  "kernelspec": {
   "display_name": "clustering-openfoodfacts",
   "language": "python",
   "name": "python3"
  },
  "language_info": {
   "codemirror_mode": {
    "name": "ipython",
    "version": 3
   },
   "file_extension": ".py",
   "mimetype": "text/x-python",
   "name": "python",
   "nbconvert_exporter": "python",
   "pygments_lexer": "ipython3",
   "version": "3.13.2"
  }
 },
 "nbformat": 4,
 "nbformat_minor": 2
}
