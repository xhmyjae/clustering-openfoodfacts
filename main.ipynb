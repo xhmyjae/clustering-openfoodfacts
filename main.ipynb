{
 "cells": [
  {
   "cell_type": "markdown",
   "metadata": {},
   "source": [
    "# Clustering on Open Food Facts dataset"
   ]
  },
  {
   "cell_type": "markdown",
   "metadata": {},
   "source": [
    "### Load data"
   ]
  },
  {
   "cell_type": "code",
   "execution_count": 1,
   "metadata": {},
   "outputs": [
    {
     "name": "stderr",
     "output_type": "stream",
     "text": [
      "2025/03/27 14:31:10 INFO mlflow.tracking.fluent: Autologging successfully enabled for sklearn.\n"
     ]
    }
   ],
   "source": [
    "# Imports libraries\n",
    "from scripts import analyse_columns, clean\n",
    "from scripts.kmeans import kmeans_clustering, plot_elbow_method\n",
    "from scripts.plots import plot_clusters_2d, plot_cluster_sizes\n",
    "from scripts.model_utils import load_model\n",
    "\n",
    "import pandas as pd\n",
    "import numpy as np\n",
    "# import mlflow\n",
    "from sklearn.preprocessing import StandardScaler\n",
    "\n",
    "# mlflow.autolog()"
   ]
  },
  {
   "cell_type": "code",
   "execution_count": 2,
   "metadata": {},
   "outputs": [
    {
     "name": "stderr",
     "output_type": "stream",
     "text": [
      "C:\\Users\\jaech\\AppData\\Local\\Temp\\ipykernel_16748\\4190858480.py:4: ParserWarning: Falling back to the 'python' engine because the 'c' engine does not support regex separators (separators > 1 char and different from '\\s+' are interpreted as regex); you can avoid this warning by specifying engine='python'.\n",
      "  df = pd.read_csv(path,\n"
     ]
    }
   ],
   "source": [
    "# Load Open Food Facts dataset csv\n",
    "path = \"data/en.openfoodfacts.org.products.csv\"\n",
    "\n",
    "df = pd.read_csv(path, \n",
    "                 sep='\\\\t', \n",
    "                 encoding=\"utf-8\",\n",
    "                 on_bad_lines='skip',\n",
    "                 nrows=300000)"
   ]
  },
  {
   "cell_type": "code",
   "execution_count": 3,
   "metadata": {},
   "outputs": [
    {
     "name": "stdout",
     "output_type": "stream",
     "text": [
      "\n",
      "First few rows:\n"
     ]
    },
    {
     "data": {
      "text/html": [
       "<div>\n",
       "<style scoped>\n",
       "    .dataframe tbody tr th:only-of-type {\n",
       "        vertical-align: middle;\n",
       "    }\n",
       "\n",
       "    .dataframe tbody tr th {\n",
       "        vertical-align: top;\n",
       "    }\n",
       "\n",
       "    .dataframe thead th {\n",
       "        text-align: right;\n",
       "    }\n",
       "</style>\n",
       "<table border=\"1\" class=\"dataframe\">\n",
       "  <thead>\n",
       "    <tr style=\"text-align: right;\">\n",
       "      <th></th>\n",
       "      <th>code</th>\n",
       "      <th>url</th>\n",
       "      <th>creator</th>\n",
       "      <th>created_t</th>\n",
       "      <th>created_datetime</th>\n",
       "      <th>last_modified_t</th>\n",
       "      <th>last_modified_datetime</th>\n",
       "      <th>last_modified_by</th>\n",
       "      <th>last_updated_t</th>\n",
       "      <th>last_updated_datetime</th>\n",
       "      <th>...</th>\n",
       "      <th>glycemic-index_100g</th>\n",
       "      <th>water-hardness_100g</th>\n",
       "      <th>choline_100g</th>\n",
       "      <th>phylloquinone_100g</th>\n",
       "      <th>beta-glucan_100g</th>\n",
       "      <th>inositol_100g</th>\n",
       "      <th>carnitine_100g</th>\n",
       "      <th>sulphate_100g</th>\n",
       "      <th>nitrate_100g</th>\n",
       "      <th>acidity_100g</th>\n",
       "    </tr>\n",
       "  </thead>\n",
       "  <tbody>\n",
       "    <tr>\n",
       "      <th>0</th>\n",
       "      <td>54</td>\n",
       "      <td>http://world-en.openfoodfacts.org/product/0000...</td>\n",
       "      <td>kiliweb</td>\n",
       "      <td>1582569031</td>\n",
       "      <td>2020-02-24T18:30:31Z</td>\n",
       "      <td>1733085204</td>\n",
       "      <td>2024-12-01T20:33:24Z</td>\n",
       "      <td>NaN</td>\n",
       "      <td>1.740205e+09</td>\n",
       "      <td>2025-02-22T06:23:42Z</td>\n",
       "      <td>...</td>\n",
       "      <td>NaN</td>\n",
       "      <td>NaN</td>\n",
       "      <td>NaN</td>\n",
       "      <td>NaN</td>\n",
       "      <td>NaN</td>\n",
       "      <td>NaN</td>\n",
       "      <td>NaN</td>\n",
       "      <td>NaN</td>\n",
       "      <td>NaN</td>\n",
       "      <td>NaN</td>\n",
       "    </tr>\n",
       "    <tr>\n",
       "      <th>1</th>\n",
       "      <td>63</td>\n",
       "      <td>http://world-en.openfoodfacts.org/product/0000...</td>\n",
       "      <td>kiliweb</td>\n",
       "      <td>1673620307</td>\n",
       "      <td>2023-01-13T14:31:47Z</td>\n",
       "      <td>1739902555</td>\n",
       "      <td>2025-02-18T18:15:55Z</td>\n",
       "      <td>waistline-app</td>\n",
       "      <td>1.740360e+09</td>\n",
       "      <td>2025-02-24T01:26:17Z</td>\n",
       "      <td>...</td>\n",
       "      <td>NaN</td>\n",
       "      <td>NaN</td>\n",
       "      <td>NaN</td>\n",
       "      <td>NaN</td>\n",
       "      <td>NaN</td>\n",
       "      <td>NaN</td>\n",
       "      <td>NaN</td>\n",
       "      <td>NaN</td>\n",
       "      <td>NaN</td>\n",
       "      <td>NaN</td>\n",
       "    </tr>\n",
       "    <tr>\n",
       "      <th>2</th>\n",
       "      <td>114</td>\n",
       "      <td>http://world-en.openfoodfacts.org/product/0000...</td>\n",
       "      <td>kiliweb</td>\n",
       "      <td>1580066482</td>\n",
       "      <td>2020-01-26T19:21:22Z</td>\n",
       "      <td>1737247862</td>\n",
       "      <td>2025-01-19T00:51:02Z</td>\n",
       "      <td>smoothie-app</td>\n",
       "      <td>1.740075e+09</td>\n",
       "      <td>2025-02-20T18:10:18Z</td>\n",
       "      <td>...</td>\n",
       "      <td>NaN</td>\n",
       "      <td>NaN</td>\n",
       "      <td>NaN</td>\n",
       "      <td>NaN</td>\n",
       "      <td>NaN</td>\n",
       "      <td>NaN</td>\n",
       "      <td>NaN</td>\n",
       "      <td>NaN</td>\n",
       "      <td>NaN</td>\n",
       "      <td>NaN</td>\n",
       "    </tr>\n",
       "    <tr>\n",
       "      <th>3</th>\n",
       "      <td>1</td>\n",
       "      <td>http://world-en.openfoodfacts.org/product/0000...</td>\n",
       "      <td>inf</td>\n",
       "      <td>1634745456</td>\n",
       "      <td>2021-10-20T15:57:36Z</td>\n",
       "      <td>1742247341</td>\n",
       "      <td>2025-03-17T21:35:41Z</td>\n",
       "      <td>roboto-app</td>\n",
       "      <td>1.742247e+09</td>\n",
       "      <td>2025-03-17T21:35:41Z</td>\n",
       "      <td>...</td>\n",
       "      <td>NaN</td>\n",
       "      <td>NaN</td>\n",
       "      <td>NaN</td>\n",
       "      <td>NaN</td>\n",
       "      <td>NaN</td>\n",
       "      <td>NaN</td>\n",
       "      <td>NaN</td>\n",
       "      <td>NaN</td>\n",
       "      <td>NaN</td>\n",
       "      <td>NaN</td>\n",
       "    </tr>\n",
       "    <tr>\n",
       "      <th>4</th>\n",
       "      <td>105</td>\n",
       "      <td>http://world-en.openfoodfacts.org/product/0000...</td>\n",
       "      <td>kiliweb</td>\n",
       "      <td>1572117743</td>\n",
       "      <td>2019-10-26T19:22:23Z</td>\n",
       "      <td>1738073570</td>\n",
       "      <td>2025-01-28T14:12:50Z</td>\n",
       "      <td>NaN</td>\n",
       "      <td>1.740085e+09</td>\n",
       "      <td>2025-02-20T20:57:12Z</td>\n",
       "      <td>...</td>\n",
       "      <td>NaN</td>\n",
       "      <td>NaN</td>\n",
       "      <td>NaN</td>\n",
       "      <td>NaN</td>\n",
       "      <td>NaN</td>\n",
       "      <td>NaN</td>\n",
       "      <td>NaN</td>\n",
       "      <td>NaN</td>\n",
       "      <td>NaN</td>\n",
       "      <td>NaN</td>\n",
       "    </tr>\n",
       "  </tbody>\n",
       "</table>\n",
       "<p>5 rows × 206 columns</p>\n",
       "</div>"
      ],
      "text/plain": [
       "   code                                                url  creator  \\\n",
       "0    54  http://world-en.openfoodfacts.org/product/0000...  kiliweb   \n",
       "1    63  http://world-en.openfoodfacts.org/product/0000...  kiliweb   \n",
       "2   114  http://world-en.openfoodfacts.org/product/0000...  kiliweb   \n",
       "3     1  http://world-en.openfoodfacts.org/product/0000...      inf   \n",
       "4   105  http://world-en.openfoodfacts.org/product/0000...  kiliweb   \n",
       "\n",
       "    created_t      created_datetime  last_modified_t last_modified_datetime  \\\n",
       "0  1582569031  2020-02-24T18:30:31Z       1733085204   2024-12-01T20:33:24Z   \n",
       "1  1673620307  2023-01-13T14:31:47Z       1739902555   2025-02-18T18:15:55Z   \n",
       "2  1580066482  2020-01-26T19:21:22Z       1737247862   2025-01-19T00:51:02Z   \n",
       "3  1634745456  2021-10-20T15:57:36Z       1742247341   2025-03-17T21:35:41Z   \n",
       "4  1572117743  2019-10-26T19:22:23Z       1738073570   2025-01-28T14:12:50Z   \n",
       "\n",
       "  last_modified_by  last_updated_t last_updated_datetime  ...  \\\n",
       "0              NaN    1.740205e+09  2025-02-22T06:23:42Z  ...   \n",
       "1    waistline-app    1.740360e+09  2025-02-24T01:26:17Z  ...   \n",
       "2     smoothie-app    1.740075e+09  2025-02-20T18:10:18Z  ...   \n",
       "3       roboto-app    1.742247e+09  2025-03-17T21:35:41Z  ...   \n",
       "4              NaN    1.740085e+09  2025-02-20T20:57:12Z  ...   \n",
       "\n",
       "  glycemic-index_100g water-hardness_100g choline_100g phylloquinone_100g  \\\n",
       "0                 NaN                 NaN          NaN                NaN   \n",
       "1                 NaN                 NaN          NaN                NaN   \n",
       "2                 NaN                 NaN          NaN                NaN   \n",
       "3                 NaN                 NaN          NaN                NaN   \n",
       "4                 NaN                 NaN          NaN                NaN   \n",
       "\n",
       "  beta-glucan_100g inositol_100g carnitine_100g sulphate_100g nitrate_100g  \\\n",
       "0              NaN           NaN            NaN           NaN          NaN   \n",
       "1              NaN           NaN            NaN           NaN          NaN   \n",
       "2              NaN           NaN            NaN           NaN          NaN   \n",
       "3              NaN           NaN            NaN           NaN          NaN   \n",
       "4              NaN           NaN            NaN           NaN          NaN   \n",
       "\n",
       "  acidity_100g  \n",
       "0          NaN  \n",
       "1          NaN  \n",
       "2          NaN  \n",
       "3          NaN  \n",
       "4          NaN  \n",
       "\n",
       "[5 rows x 206 columns]"
      ]
     },
     "metadata": {},
     "output_type": "display_data"
    }
   ],
   "source": [
    "# Display basic information about the dataset\n",
    "print(\"\\nFirst few rows:\")\n",
    "display(df.head())"
   ]
  },
  {
   "cell_type": "code",
   "execution_count": 4,
   "metadata": {},
   "outputs": [
    {
     "name": "stdout",
     "output_type": "stream",
     "text": [
      "(300000, 206)\n"
     ]
    }
   ],
   "source": [
    "# Display number of rows and columns\n",
    "print(df.shape)"
   ]
  },
  {
   "cell_type": "code",
   "execution_count": 5,
   "metadata": {},
   "outputs": [
    {
     "name": "stdout",
     "output_type": "stream",
     "text": [
      "\n",
      "Summary statistics of numeric columns:\n",
      "               code     created_t  last_modified_t  last_updated_t  cities  \\\n",
      "count  3.000000e+05  3.000000e+05     3.000000e+05    2.999990e+05     0.0   \n",
      "mean   3.142524e+10  1.602130e+09     1.675095e+09    1.729909e+09     NaN   \n",
      "std    1.793752e+10  7.930433e+07     6.009212e+07    1.253325e+07     NaN   \n",
      "min    1.000000e+00  1.332445e+09     1.424628e+09    1.701775e+09     NaN   \n",
      "5%     3.759174e+05  1.489060e+09     1.587584e+09    1.707823e+09     NaN   \n",
      "25%    1.590006e+10  1.537557e+09     1.627272e+09    1.720271e+09     NaN   \n",
      "50%    3.594086e+10  1.592158e+09     1.685832e+09    1.734786e+09     NaN   \n",
      "75%    4.222285e+10  1.660253e+09     1.728054e+09    1.738830e+09     NaN   \n",
      "95%    5.974995e+10  1.726604e+09     1.740367e+09    1.740367e+09     NaN   \n",
      "max    6.263938e+10  1.742962e+09     1.742967e+09    1.742967e+09     NaN   \n",
      "\n",
      "       allergens_en  serving_quantity    additives_n  additives  \\\n",
      "count           0.0      1.738320e+05  158029.000000        0.0   \n",
      "mean            NaN      3.139559e+26       2.544394        NaN   \n",
      "std             NaN      1.308981e+29       3.218107        NaN   \n",
      "min             NaN      0.000000e+00       0.000000        NaN   \n",
      "5%              NaN      5.000000e+00       0.000000        NaN   \n",
      "25%             NaN      2.800000e+01       0.000000        NaN   \n",
      "50%             NaN      4.500000e+01       1.000000        NaN   \n",
      "75%             NaN      1.130000e+02       4.000000        NaN   \n",
      "95%             NaN      2.840000e+02       9.000000        NaN   \n",
      "max             NaN      5.457558e+31      33.000000        NaN   \n",
      "\n",
      "       nutriscore_score  ...  glycemic-index_100g  water-hardness_100g  \\\n",
      "count     142486.000000  ...                  0.0                  0.0   \n",
      "mean          11.819245  ...                  NaN                  NaN   \n",
      "std           10.775878  ...                  NaN                  NaN   \n",
      "min          -17.000000  ...                  NaN                  NaN   \n",
      "5%            -4.000000  ...                  NaN                  NaN   \n",
      "25%            2.000000  ...                  NaN                  NaN   \n",
      "50%           12.000000  ...                  NaN                  NaN   \n",
      "75%           20.000000  ...                  NaN                  NaN   \n",
      "95%           30.000000  ...                  NaN                  NaN   \n",
      "max           55.000000  ...                  NaN                  NaN   \n",
      "\n",
      "       choline_100g  phylloquinone_100g  beta-glucan_100g  inositol_100g  \\\n",
      "count      2.000000          455.000000               0.0       2.000000   \n",
      "mean       0.098650            0.000168               NaN      37.511500   \n",
      "std        0.052821            0.000961               NaN      53.016745   \n",
      "min        0.061300            0.000000               NaN       0.023000   \n",
      "5%         0.065035            0.000001               NaN       3.771850   \n",
      "25%        0.079975            0.000007               NaN      18.767250   \n",
      "50%        0.098650            0.000013               NaN      37.511500   \n",
      "75%        0.117325            0.000100               NaN      56.255750   \n",
      "95%        0.132265            0.000608               NaN      71.251150   \n",
      "max        0.136000            0.017143               NaN      75.000000   \n",
      "\n",
      "       carnitine_100g  sulphate_100g  nitrate_100g  acidity_100g  \n",
      "count             0.0       1.000000  3.000000e+00           1.0  \n",
      "mean              NaN       0.000031  8.766667e-05           5.0  \n",
      "std               NaN            NaN  1.492526e-04           NaN  \n",
      "min               NaN       0.000031  0.000000e+00           5.0  \n",
      "5%                NaN       0.000031  3.000000e-07           5.0  \n",
      "25%               NaN       0.000031  1.500000e-06           5.0  \n",
      "50%               NaN       0.000031  3.000000e-06           5.0  \n",
      "75%               NaN       0.000031  1.315000e-04           5.0  \n",
      "95%               NaN       0.000031  2.343000e-04           5.0  \n",
      "max               NaN       0.000031  2.600000e-04           5.0  \n",
      "\n",
      "[10 rows x 135 columns]\n",
      "\n",
      "Skewness of numeric columns:\n",
      "code              -0.234488\n",
      "created_t         -0.151612\n",
      "last_modified_t   -0.607201\n",
      "last_updated_t    -1.008141\n",
      "cities                  NaN\n",
      "                     ...   \n",
      "inositol_100g           NaN\n",
      "carnitine_100g          NaN\n",
      "sulphate_100g           NaN\n",
      "nitrate_100g       1.731264\n",
      "acidity_100g            NaN\n",
      "Length: 135, dtype: float64\n",
      "\n",
      "Kurtosis of numeric columns:\n",
      "code              -1.012189\n",
      "created_t         -0.970545\n",
      "last_modified_t   -0.749215\n",
      "last_updated_t    -0.701445\n",
      "cities                  NaN\n",
      "                     ...   \n",
      "inositol_100g           NaN\n",
      "carnitine_100g          NaN\n",
      "sulphate_100g           NaN\n",
      "nitrate_100g            NaN\n",
      "acidity_100g            NaN\n",
      "Length: 135, dtype: float64\n",
      "\n",
      "Number of non-null values in numeric columns:\n",
      "code               300000\n",
      "created_t          300000\n",
      "last_modified_t    300000\n",
      "last_updated_t     299999\n",
      "cities                  0\n",
      "                    ...  \n",
      "inositol_100g           2\n",
      "carnitine_100g          0\n",
      "sulphate_100g           1\n",
      "nitrate_100g            3\n",
      "acidity_100g            1\n",
      "Length: 135, dtype: int64\n"
     ]
    }
   ],
   "source": [
    "# Show summary statistics of numeric columns\n",
    "# Display detailed summary statistics of numeric columns\n",
    "print(\"\\nSummary statistics of numeric columns:\")\n",
    "print(df.describe(include=[np.number], percentiles=[.05, .25, .5, .75, .95]))\n",
    "\n",
    "# Show additional statistics\n",
    "print(\"\\nSkewness of numeric columns:\")\n",
    "print(df.select_dtypes(include=[np.number]).skew())\n",
    "\n",
    "print(\"\\nKurtosis of numeric columns:\")\n",
    "print(df.select_dtypes(include=[np.number]).kurtosis())\n",
    "\n",
    "# Count number of non-null values for each numeric column\n",
    "print(\"\\nNumber of non-null values in numeric columns:\")\n",
    "print(df.select_dtypes(include=[np.number]).count())"
   ]
  },
  {
   "cell_type": "markdown",
   "metadata": {},
   "source": [
    "### Data Processing"
   ]
  },
  {
   "cell_type": "code",
   "execution_count": 6,
   "metadata": {},
   "outputs": [
    {
     "name": "stdout",
     "output_type": "stream",
     "text": [
      "\n",
      "Cleaned dataset shape: (300000, 206)\n",
      "\n",
      "Remaining columns:\n",
      "['energy-kcal_100g', 'energy_100g', 'fat_100g', 'saturated-fat_100g', 'carbohydrates_100g', 'sugars_100g', 'fiber_100g', 'proteins_100g', 'salt_100g', 'sodium_100g', 'fruits-vegetables-nuts-estimate-from-ingredients_100g']\n"
     ]
    }
   ],
   "source": [
    "# Keep only relevant columns (nutritional columns)\n",
    "\n",
    "# All other columns are irrelevant\n",
    "irrelevant_columns = [col for col in df.columns if not col.endswith('_100g')]\n",
    "\n",
    "# Clean dataset using the clean() function\n",
    "df_cleaned = clean.clean(df, irrelevant_columns=irrelevant_columns, missing_threshold=0.5)\n",
    "\n",
    "# Display cleaned dataset info\n",
    "print(\"\\nCleaned dataset shape:\", df.shape)\n",
    "print(\"\\nRemaining columns:\")\n",
    "print(df_cleaned.columns.tolist())\n"
   ]
  },
  {
   "cell_type": "code",
   "execution_count": 7,
   "metadata": {},
   "outputs": [
    {
     "data": {
      "text/html": [
       "<div>\n",
       "<style scoped>\n",
       "    .dataframe tbody tr th:only-of-type {\n",
       "        vertical-align: middle;\n",
       "    }\n",
       "\n",
       "    .dataframe tbody tr th {\n",
       "        vertical-align: top;\n",
       "    }\n",
       "\n",
       "    .dataframe thead th {\n",
       "        text-align: right;\n",
       "    }\n",
       "</style>\n",
       "<table border=\"1\" class=\"dataframe\">\n",
       "  <thead>\n",
       "    <tr style=\"text-align: right;\">\n",
       "      <th></th>\n",
       "      <th>energy-kcal_100g</th>\n",
       "      <th>energy_100g</th>\n",
       "      <th>fat_100g</th>\n",
       "      <th>saturated-fat_100g</th>\n",
       "      <th>carbohydrates_100g</th>\n",
       "      <th>sugars_100g</th>\n",
       "      <th>fiber_100g</th>\n",
       "      <th>proteins_100g</th>\n",
       "      <th>salt_100g</th>\n",
       "      <th>sodium_100g</th>\n",
       "      <th>fruits-vegetables-nuts-estimate-from-ingredients_100g</th>\n",
       "    </tr>\n",
       "  </thead>\n",
       "  <tbody>\n",
       "    <tr>\n",
       "      <th>0</th>\n",
       "      <td>NaN</td>\n",
       "      <td>NaN</td>\n",
       "      <td>NaN</td>\n",
       "      <td>NaN</td>\n",
       "      <td>NaN</td>\n",
       "      <td>NaN</td>\n",
       "      <td>NaN</td>\n",
       "      <td>NaN</td>\n",
       "      <td>NaN</td>\n",
       "      <td>NaN</td>\n",
       "      <td>NaN</td>\n",
       "    </tr>\n",
       "    <tr>\n",
       "      <th>1</th>\n",
       "      <td>332.0</td>\n",
       "      <td>1389.0</td>\n",
       "      <td>25.0</td>\n",
       "      <td>17.3</td>\n",
       "      <td>3.0</td>\n",
       "      <td>1.0</td>\n",
       "      <td>NaN</td>\n",
       "      <td>23.0</td>\n",
       "      <td>1.200</td>\n",
       "      <td>0.48</td>\n",
       "      <td>0.000000</td>\n",
       "    </tr>\n",
       "    <tr>\n",
       "      <th>2</th>\n",
       "      <td>NaN</td>\n",
       "      <td>2415.0</td>\n",
       "      <td>44.0</td>\n",
       "      <td>28.0</td>\n",
       "      <td>30.0</td>\n",
       "      <td>27.0</td>\n",
       "      <td>NaN</td>\n",
       "      <td>7.1</td>\n",
       "      <td>0.025</td>\n",
       "      <td>0.01</td>\n",
       "      <td>NaN</td>\n",
       "    </tr>\n",
       "    <tr>\n",
       "      <th>3</th>\n",
       "      <td>NaN</td>\n",
       "      <td>NaN</td>\n",
       "      <td>NaN</td>\n",
       "      <td>NaN</td>\n",
       "      <td>NaN</td>\n",
       "      <td>NaN</td>\n",
       "      <td>NaN</td>\n",
       "      <td>NaN</td>\n",
       "      <td>NaN</td>\n",
       "      <td>NaN</td>\n",
       "      <td>100.000000</td>\n",
       "    </tr>\n",
       "    <tr>\n",
       "      <th>4</th>\n",
       "      <td>NaN</td>\n",
       "      <td>NaN</td>\n",
       "      <td>NaN</td>\n",
       "      <td>NaN</td>\n",
       "      <td>NaN</td>\n",
       "      <td>NaN</td>\n",
       "      <td>NaN</td>\n",
       "      <td>NaN</td>\n",
       "      <td>NaN</td>\n",
       "      <td>NaN</td>\n",
       "      <td>0.011335</td>\n",
       "    </tr>\n",
       "  </tbody>\n",
       "</table>\n",
       "</div>"
      ],
      "text/plain": [
       "   energy-kcal_100g  energy_100g  fat_100g  saturated-fat_100g  \\\n",
       "0               NaN          NaN       NaN                 NaN   \n",
       "1             332.0       1389.0      25.0                17.3   \n",
       "2               NaN       2415.0      44.0                28.0   \n",
       "3               NaN          NaN       NaN                 NaN   \n",
       "4               NaN          NaN       NaN                 NaN   \n",
       "\n",
       "   carbohydrates_100g  sugars_100g  fiber_100g  proteins_100g  salt_100g  \\\n",
       "0                 NaN          NaN         NaN            NaN        NaN   \n",
       "1                 3.0          1.0         NaN           23.0      1.200   \n",
       "2                30.0         27.0         NaN            7.1      0.025   \n",
       "3                 NaN          NaN         NaN            NaN        NaN   \n",
       "4                 NaN          NaN         NaN            NaN        NaN   \n",
       "\n",
       "   sodium_100g  fruits-vegetables-nuts-estimate-from-ingredients_100g  \n",
       "0          NaN                                                NaN      \n",
       "1         0.48                                           0.000000      \n",
       "2         0.01                                                NaN      \n",
       "3          NaN                                         100.000000      \n",
       "4          NaN                                           0.011335      "
      ]
     },
     "metadata": {},
     "output_type": "display_data"
    }
   ],
   "source": [
    "display(df_cleaned.head())"
   ]
  },
  {
   "cell_type": "code",
   "execution_count": 8,
   "metadata": {},
   "outputs": [
    {
     "name": "stdout",
     "output_type": "stream",
     "text": [
      "\n",
      "Number of NaN values remaining:\n",
      "0\n",
      "\n",
      "First few rows after handling missing values:\n"
     ]
    },
    {
     "data": {
      "text/html": [
       "<div>\n",
       "<style scoped>\n",
       "    .dataframe tbody tr th:only-of-type {\n",
       "        vertical-align: middle;\n",
       "    }\n",
       "\n",
       "    .dataframe tbody tr th {\n",
       "        vertical-align: top;\n",
       "    }\n",
       "\n",
       "    .dataframe thead th {\n",
       "        text-align: right;\n",
       "    }\n",
       "</style>\n",
       "<table border=\"1\" class=\"dataframe\">\n",
       "  <thead>\n",
       "    <tr style=\"text-align: right;\">\n",
       "      <th></th>\n",
       "      <th>energy-kcal_100g</th>\n",
       "      <th>energy_100g</th>\n",
       "      <th>fat_100g</th>\n",
       "      <th>saturated-fat_100g</th>\n",
       "      <th>carbohydrates_100g</th>\n",
       "      <th>sugars_100g</th>\n",
       "      <th>fiber_100g</th>\n",
       "      <th>proteins_100g</th>\n",
       "      <th>salt_100g</th>\n",
       "      <th>sodium_100g</th>\n",
       "      <th>fruits-vegetables-nuts-estimate-from-ingredients_100g</th>\n",
       "    </tr>\n",
       "  </thead>\n",
       "  <tbody>\n",
       "    <tr>\n",
       "      <th>0</th>\n",
       "      <td>270.0</td>\n",
       "      <td>1130.0</td>\n",
       "      <td>5.172414</td>\n",
       "      <td>1.5</td>\n",
       "      <td>22.988503</td>\n",
       "      <td>5.26</td>\n",
       "      <td>1.41</td>\n",
       "      <td>5.0</td>\n",
       "      <td>0.4325</td>\n",
       "      <td>0.173</td>\n",
       "      <td>0.670000</td>\n",
       "    </tr>\n",
       "    <tr>\n",
       "      <th>1</th>\n",
       "      <td>332.0</td>\n",
       "      <td>1389.0</td>\n",
       "      <td>25.000000</td>\n",
       "      <td>17.3</td>\n",
       "      <td>3.000000</td>\n",
       "      <td>1.00</td>\n",
       "      <td>1.41</td>\n",
       "      <td>23.0</td>\n",
       "      <td>1.2000</td>\n",
       "      <td>0.480</td>\n",
       "      <td>0.000000</td>\n",
       "    </tr>\n",
       "    <tr>\n",
       "      <th>2</th>\n",
       "      <td>270.0</td>\n",
       "      <td>2415.0</td>\n",
       "      <td>44.000000</td>\n",
       "      <td>28.0</td>\n",
       "      <td>30.000000</td>\n",
       "      <td>27.00</td>\n",
       "      <td>1.41</td>\n",
       "      <td>7.1</td>\n",
       "      <td>0.0250</td>\n",
       "      <td>0.010</td>\n",
       "      <td>0.670000</td>\n",
       "    </tr>\n",
       "    <tr>\n",
       "      <th>3</th>\n",
       "      <td>270.0</td>\n",
       "      <td>1130.0</td>\n",
       "      <td>5.172414</td>\n",
       "      <td>1.5</td>\n",
       "      <td>22.988503</td>\n",
       "      <td>5.26</td>\n",
       "      <td>1.41</td>\n",
       "      <td>5.0</td>\n",
       "      <td>0.4325</td>\n",
       "      <td>0.173</td>\n",
       "      <td>100.000000</td>\n",
       "    </tr>\n",
       "    <tr>\n",
       "      <th>4</th>\n",
       "      <td>270.0</td>\n",
       "      <td>1130.0</td>\n",
       "      <td>5.172414</td>\n",
       "      <td>1.5</td>\n",
       "      <td>22.988503</td>\n",
       "      <td>5.26</td>\n",
       "      <td>1.41</td>\n",
       "      <td>5.0</td>\n",
       "      <td>0.4325</td>\n",
       "      <td>0.173</td>\n",
       "      <td>0.011335</td>\n",
       "    </tr>\n",
       "  </tbody>\n",
       "</table>\n",
       "</div>"
      ],
      "text/plain": [
       "   energy-kcal_100g  energy_100g   fat_100g  saturated-fat_100g  \\\n",
       "0             270.0       1130.0   5.172414                 1.5   \n",
       "1             332.0       1389.0  25.000000                17.3   \n",
       "2             270.0       2415.0  44.000000                28.0   \n",
       "3             270.0       1130.0   5.172414                 1.5   \n",
       "4             270.0       1130.0   5.172414                 1.5   \n",
       "\n",
       "   carbohydrates_100g  sugars_100g  fiber_100g  proteins_100g  salt_100g  \\\n",
       "0           22.988503         5.26        1.41            5.0     0.4325   \n",
       "1            3.000000         1.00        1.41           23.0     1.2000   \n",
       "2           30.000000        27.00        1.41            7.1     0.0250   \n",
       "3           22.988503         5.26        1.41            5.0     0.4325   \n",
       "4           22.988503         5.26        1.41            5.0     0.4325   \n",
       "\n",
       "   sodium_100g  fruits-vegetables-nuts-estimate-from-ingredients_100g  \n",
       "0        0.173                                           0.670000      \n",
       "1        0.480                                           0.000000      \n",
       "2        0.010                                           0.670000      \n",
       "3        0.173                                         100.000000      \n",
       "4        0.173                                           0.011335      "
      ]
     },
     "metadata": {},
     "output_type": "display_data"
    },
    {
     "name": "stdout",
     "output_type": "stream",
     "text": [
      "\n",
      "Shape\n",
      "(300000, 11)\n"
     ]
    }
   ],
   "source": [
    "# Handle missing values by filling with median for numeric columns\n",
    "# Using median instead of mean to be more robust to outliers\n",
    "df_cleaned = df_cleaned.fillna(df_cleaned.median())\n",
    "\n",
    "# Verify no more NaN values exist\n",
    "print(\"\\nNumber of NaN values remaining:\")\n",
    "print(df_cleaned.isna().sum().sum())\n",
    "\n",
    "# Display first few rows to verify changes\n",
    "print(\"\\nFirst few rows after handling missing values:\")\n",
    "display(df_cleaned.head())\n",
    "\n",
    "print(\"\\nShape\")\n",
    "print(df_cleaned.shape)\n"
   ]
  },
  {
   "cell_type": "code",
   "execution_count": 9,
   "metadata": {},
   "outputs": [
    {
     "name": "stdout",
     "output_type": "stream",
     "text": [
      "First few rows of scaled data:\n"
     ]
    },
    {
     "data": {
      "text/html": [
       "<div>\n",
       "<style scoped>\n",
       "    .dataframe tbody tr th:only-of-type {\n",
       "        vertical-align: middle;\n",
       "    }\n",
       "\n",
       "    .dataframe tbody tr th {\n",
       "        vertical-align: top;\n",
       "    }\n",
       "\n",
       "    .dataframe thead th {\n",
       "        text-align: right;\n",
       "    }\n",
       "</style>\n",
       "<table border=\"1\" class=\"dataframe\">\n",
       "  <thead>\n",
       "    <tr style=\"text-align: right;\">\n",
       "      <th></th>\n",
       "      <th>energy-kcal_100g</th>\n",
       "      <th>energy_100g</th>\n",
       "      <th>fat_100g</th>\n",
       "      <th>saturated-fat_100g</th>\n",
       "      <th>carbohydrates_100g</th>\n",
       "      <th>sugars_100g</th>\n",
       "      <th>fiber_100g</th>\n",
       "      <th>proteins_100g</th>\n",
       "      <th>salt_100g</th>\n",
       "      <th>sodium_100g</th>\n",
       "      <th>fruits-vegetables-nuts-estimate-from-ingredients_100g</th>\n",
       "    </tr>\n",
       "  </thead>\n",
       "  <tbody>\n",
       "    <tr>\n",
       "      <th>0</th>\n",
       "      <td>-0.133253</td>\n",
       "      <td>-0.132839</td>\n",
       "      <td>-0.234255</td>\n",
       "      <td>-0.128697</td>\n",
       "      <td>-0.241410</td>\n",
       "      <td>-0.276793</td>\n",
       "      <td>-0.061425</td>\n",
       "      <td>-0.167371</td>\n",
       "      <td>-0.001826</td>\n",
       "      <td>-0.001826</td>\n",
       "      <td>-0.397221</td>\n",
       "    </tr>\n",
       "    <tr>\n",
       "      <th>1</th>\n",
       "      <td>-0.014850</td>\n",
       "      <td>-0.014526</td>\n",
       "      <td>0.226550</td>\n",
       "      <td>0.447083</td>\n",
       "      <td>-0.540333</td>\n",
       "      <td>-0.378692</td>\n",
       "      <td>-0.061425</td>\n",
       "      <td>0.624400</td>\n",
       "      <td>-0.001826</td>\n",
       "      <td>-0.001826</td>\n",
       "      <td>-0.425070</td>\n",
       "    </tr>\n",
       "    <tr>\n",
       "      <th>2</th>\n",
       "      <td>-0.133253</td>\n",
       "      <td>0.454158</td>\n",
       "      <td>0.668122</td>\n",
       "      <td>0.837010</td>\n",
       "      <td>-0.136555</td>\n",
       "      <td>0.243229</td>\n",
       "      <td>-0.061425</td>\n",
       "      <td>-0.074998</td>\n",
       "      <td>-0.001826</td>\n",
       "      <td>-0.001826</td>\n",
       "      <td>-0.397221</td>\n",
       "    </tr>\n",
       "    <tr>\n",
       "      <th>3</th>\n",
       "      <td>-0.133253</td>\n",
       "      <td>-0.132839</td>\n",
       "      <td>-0.234255</td>\n",
       "      <td>-0.128697</td>\n",
       "      <td>-0.241410</td>\n",
       "      <td>-0.276793</td>\n",
       "      <td>-0.061425</td>\n",
       "      <td>-0.167371</td>\n",
       "      <td>-0.001826</td>\n",
       "      <td>-0.001826</td>\n",
       "      <td>3.731573</td>\n",
       "    </tr>\n",
       "    <tr>\n",
       "      <th>4</th>\n",
       "      <td>-0.133253</td>\n",
       "      <td>-0.132839</td>\n",
       "      <td>-0.234255</td>\n",
       "      <td>-0.128697</td>\n",
       "      <td>-0.241410</td>\n",
       "      <td>-0.276793</td>\n",
       "      <td>-0.061425</td>\n",
       "      <td>-0.167371</td>\n",
       "      <td>-0.001826</td>\n",
       "      <td>-0.001826</td>\n",
       "      <td>-0.424599</td>\n",
       "    </tr>\n",
       "  </tbody>\n",
       "</table>\n",
       "</div>"
      ],
      "text/plain": [
       "   energy-kcal_100g  energy_100g  fat_100g  saturated-fat_100g  \\\n",
       "0         -0.133253    -0.132839 -0.234255           -0.128697   \n",
       "1         -0.014850    -0.014526  0.226550            0.447083   \n",
       "2         -0.133253     0.454158  0.668122            0.837010   \n",
       "3         -0.133253    -0.132839 -0.234255           -0.128697   \n",
       "4         -0.133253    -0.132839 -0.234255           -0.128697   \n",
       "\n",
       "   carbohydrates_100g  sugars_100g  fiber_100g  proteins_100g  salt_100g  \\\n",
       "0           -0.241410    -0.276793   -0.061425      -0.167371  -0.001826   \n",
       "1           -0.540333    -0.378692   -0.061425       0.624400  -0.001826   \n",
       "2           -0.136555     0.243229   -0.061425      -0.074998  -0.001826   \n",
       "3           -0.241410    -0.276793   -0.061425      -0.167371  -0.001826   \n",
       "4           -0.241410    -0.276793   -0.061425      -0.167371  -0.001826   \n",
       "\n",
       "   sodium_100g  fruits-vegetables-nuts-estimate-from-ingredients_100g  \n",
       "0    -0.001826                                          -0.397221      \n",
       "1    -0.001826                                          -0.425070      \n",
       "2    -0.001826                                          -0.397221      \n",
       "3    -0.001826                                           3.731573      \n",
       "4    -0.001826                                          -0.424599      "
      ]
     },
     "metadata": {},
     "output_type": "display_data"
    },
    {
     "name": "stdout",
     "output_type": "stream",
     "text": [
      "\n",
      "Mean of scaled features:\n",
      "energy-kcal_100g                                         0.0\n",
      "energy_100g                                              0.0\n",
      "fat_100g                                                 0.0\n",
      "saturated-fat_100g                                       0.0\n",
      "carbohydrates_100g                                      -0.0\n",
      "sugars_100g                                              0.0\n",
      "fiber_100g                                               0.0\n",
      "proteins_100g                                            0.0\n",
      "salt_100g                                               -0.0\n",
      "sodium_100g                                              0.0\n",
      "fruits-vegetables-nuts-estimate-from-ingredients_100g   -0.0\n",
      "dtype: float64\n",
      "\n",
      "Standard deviation of scaled features:\n",
      "energy-kcal_100g                                         1.0\n",
      "energy_100g                                              1.0\n",
      "fat_100g                                                 1.0\n",
      "saturated-fat_100g                                       1.0\n",
      "carbohydrates_100g                                       1.0\n",
      "sugars_100g                                              1.0\n",
      "fiber_100g                                               1.0\n",
      "proteins_100g                                            1.0\n",
      "salt_100g                                                1.0\n",
      "sodium_100g                                              1.0\n",
      "fruits-vegetables-nuts-estimate-from-ingredients_100g    1.0\n",
      "dtype: float64\n"
     ]
    }
   ],
   "source": [
    "# Scale features using StandardScaler\n",
    "scaler = StandardScaler()\n",
    "df_scaled = pd.DataFrame(\n",
    "    scaler.fit_transform(df_cleaned),\n",
    "    columns=df_cleaned.columns\n",
    ")\n",
    "\n",
    "# Display first few rows of scaled data\n",
    "print(\"First few rows of scaled data:\")\n",
    "display(df_scaled.head())\n",
    "\n",
    "# Verify scaling - mean should be ~0 and std should be ~1\n",
    "print(\"\\nMean of scaled features:\")\n",
    "print(df_scaled.mean().round(2))\n",
    "print(\"\\nStandard deviation of scaled features:\")\n",
    "print(df_scaled.std().round(2))\n",
    "\n"
   ]
  },
  {
   "cell_type": "code",
   "execution_count": 10,
   "metadata": {},
   "outputs": [
    {
     "name": "stdout",
     "output_type": "stream",
     "text": [
      "Shape before removing outliers: (300000, 11)\n",
      "Shape after removing outliers: (144826, 11)\n",
      "Removed 155174 outliers\n"
     ]
    }
   ],
   "source": [
    "# Remove outliers using IQR method\n",
    "def remove_outliers(df):\n",
    "    Q1 = df.quantile(0.25)\n",
    "    Q3 = df.quantile(0.75)\n",
    "    IQR = Q3 - Q1\n",
    "    \n",
    "    # Define bounds\n",
    "    lower_bound = Q1 - 1.5 * IQR \n",
    "    upper_bound = Q3 + 1.5 * IQR\n",
    "    \n",
    "    # Create mask for values within bounds\n",
    "    mask = ~((df < lower_bound) | (df > upper_bound)).any(axis=1)\n",
    "    \n",
    "    return df[mask]\n",
    "\n",
    "# Remove outliers and store in new DataFrame\n",
    "print(\"Shape before removing outliers:\", df_scaled.shape)\n",
    "df_scaled_no_outliers = remove_outliers(df_scaled)\n",
    "print(\"Shape after removing outliers:\", df_scaled_no_outliers.shape)\n",
    "print(f\"Removed {df_scaled.shape[0] - df_scaled_no_outliers.shape[0]} outliers\")\n",
    "\n",
    "# Update original data without outliers for consistency\n",
    "df_cleaned = df_cleaned.loc[df_scaled_no_outliers.index]\n"
   ]
  },
  {
   "cell_type": "code",
   "execution_count": 11,
   "metadata": {},
   "outputs": [],
   "source": [
    "# Create cleaned dataset\n"
   ]
  },
  {
   "cell_type": "markdown",
   "metadata": {},
   "source": [
    "### Feature Engineering"
   ]
  },
  {
   "cell_type": "code",
   "execution_count": 12,
   "metadata": {},
   "outputs": [],
   "source": [
    "# Create new features\n"
   ]
  },
  {
   "cell_type": "code",
   "execution_count": 13,
   "metadata": {},
   "outputs": [],
   "source": [
    "# Do PCA to visualize high-dimensional data\n"
   ]
  },
  {
   "cell_type": "code",
   "execution_count": 14,
   "metadata": {},
   "outputs": [],
   "source": [
    "# Analyze feature importance and correlations\n"
   ]
  },
  {
   "cell_type": "markdown",
   "metadata": {},
   "source": [
    "### Clustering Analysis"
   ]
  },
  {
   "cell_type": "markdown",
   "metadata": {},
   "source": [
    "- #### K-Means"
   ]
  },
  {
   "cell_type": "code",
   "execution_count": 15,
   "metadata": {},
   "outputs": [
    {
     "name": "stderr",
     "output_type": "stream",
     "text": [
      "2025/03/27 14:32:08 INFO mlflow.utils.autologging_utils: Created MLflow autologging run with ID '77ec4a05325f4cd2ae5fad6c675b50d6', which will track hyperparameters, performance metrics, model artifacts, and lineage information for the current sklearn workflow\n",
      "2025/03/27 14:32:08 WARNING mlflow.sklearn: Training metrics will not be recorded because training labels were not specified. To automatically record training metrics, provide training labels as inputs to the model training function.\n",
      "2025/03/27 14:32:22 INFO mlflow.utils.autologging_utils: Created MLflow autologging run with ID 'a3b00bcec5624d52bf636cd1fd301e02', which will track hyperparameters, performance metrics, model artifacts, and lineage information for the current sklearn workflow\n",
      "2025/03/27 14:32:23 WARNING mlflow.sklearn: Training metrics will not be recorded because training labels were not specified. To automatically record training metrics, provide training labels as inputs to the model training function.\n",
      "2025/03/27 14:32:32 INFO mlflow.utils.autologging_utils: Created MLflow autologging run with ID '2abedb3b67e94831916604531dec7b53', which will track hyperparameters, performance metrics, model artifacts, and lineage information for the current sklearn workflow\n",
      "2025/03/27 14:32:33 WARNING mlflow.sklearn: Training metrics will not be recorded because training labels were not specified. To automatically record training metrics, provide training labels as inputs to the model training function.\n",
      "2025/03/27 14:32:43 INFO mlflow.utils.autologging_utils: Created MLflow autologging run with ID '7091c5bc289c4f7b831bd57861a6ab14', which will track hyperparameters, performance metrics, model artifacts, and lineage information for the current sklearn workflow\n",
      "2025/03/27 14:32:44 WARNING mlflow.sklearn: Training metrics will not be recorded because training labels were not specified. To automatically record training metrics, provide training labels as inputs to the model training function.\n",
      "2025/03/27 14:32:54 INFO mlflow.utils.autologging_utils: Created MLflow autologging run with ID 'c4fc2917483143be8c38132de5bdaaaa', which will track hyperparameters, performance metrics, model artifacts, and lineage information for the current sklearn workflow\n",
      "2025/03/27 14:32:55 WARNING mlflow.sklearn: Training metrics will not be recorded because training labels were not specified. To automatically record training metrics, provide training labels as inputs to the model training function.\n",
      "2025/03/27 14:33:06 INFO mlflow.utils.autologging_utils: Created MLflow autologging run with ID '86cb60bcf0834b9f9591f148501ef3a6', which will track hyperparameters, performance metrics, model artifacts, and lineage information for the current sklearn workflow\n",
      "2025/03/27 14:33:07 WARNING mlflow.sklearn: Training metrics will not be recorded because training labels were not specified. To automatically record training metrics, provide training labels as inputs to the model training function.\n",
      "2025/03/27 14:33:18 INFO mlflow.utils.autologging_utils: Created MLflow autologging run with ID '8d017bc8323b463abe514d45afabc99c', which will track hyperparameters, performance metrics, model artifacts, and lineage information for the current sklearn workflow\n",
      "2025/03/27 14:33:20 WARNING mlflow.sklearn: Training metrics will not be recorded because training labels were not specified. To automatically record training metrics, provide training labels as inputs to the model training function.\n",
      "2025/03/27 14:33:30 INFO mlflow.utils.autologging_utils: Created MLflow autologging run with ID 'fbdaf36f5de24a63887e2310eb1a4c40', which will track hyperparameters, performance metrics, model artifacts, and lineage information for the current sklearn workflow\n",
      "2025/03/27 14:33:33 WARNING mlflow.sklearn: Training metrics will not be recorded because training labels were not specified. To automatically record training metrics, provide training labels as inputs to the model training function.\n",
      "2025/03/27 14:33:43 INFO mlflow.utils.autologging_utils: Created MLflow autologging run with ID 'a12328abf12c44a6937ca6d62858ad2a', which will track hyperparameters, performance metrics, model artifacts, and lineage information for the current sklearn workflow\n",
      "2025/03/27 14:33:46 WARNING mlflow.sklearn: Training metrics will not be recorded because training labels were not specified. To automatically record training metrics, provide training labels as inputs to the model training function.\n",
      "2025/03/27 14:33:56 INFO mlflow.utils.autologging_utils: Created MLflow autologging run with ID 'c5252d784bfd4872a35f6e63798112c4', which will track hyperparameters, performance metrics, model artifacts, and lineage information for the current sklearn workflow\n",
      "2025/03/27 14:33:59 WARNING mlflow.sklearn: Training metrics will not be recorded because training labels were not specified. To automatically record training metrics, provide training labels as inputs to the model training function.\n"
     ]
    },
    {
     "data": {
      "image/png": "[encoded data removed]",
      "text/plain": [
       "<Figure size 1000x600 with 1 Axes>"
      ]
     },
     "metadata": {},
     "output_type": "display_data"
    }
   ],
   "source": [
    "# Determine optimal number of clusters\n",
    "plot_elbow_method(df_cleaned.values)"
   ]
  },
  {
   "cell_type": "code",
   "execution_count": 16,
   "metadata": {},
   "outputs": [
    {
     "name": "stderr",
     "output_type": "stream",
     "text": [
      "2025/03/27 14:34:10 INFO mlflow.utils.autologging_utils: Created MLflow autologging run with ID 'c6fc5d839aae45deb4247f2683c9d565', which will track hyperparameters, performance metrics, model artifacts, and lineage information for the current sklearn workflow\n",
      "2025/03/27 14:34:12 WARNING mlflow.sklearn: Training metrics will not be recorded because training labels were not specified. To automatically record training metrics, provide training labels as inputs to the model training function.\n"
     ]
    },
    {
     "name": "stdout",
     "output_type": "stream",
     "text": [
      "Model saved to: models\\kmeans_food_clusters_20250327_143421.joblib\n"
     ]
    }
   ],
   "source": [
    "# Perform clustering\n",
    "kmeans, labels, metrics = kmeans_clustering(df_cleaned.values)\n"
   ]
  },
  {
   "cell_type": "code",
   "execution_count": 17,
   "metadata": {},
   "outputs": [
    {
     "data": {
      "image/png": "[encoded data removed]",
      "text/plain": [
       "<Figure size 1000x600 with 1 Axes>"
      ]
     },
     "metadata": {},
     "output_type": "display_data"
    }
   ],
   "source": [
    "# Visualize the results\n",
    "plot_clusters_2d(df_cleaned.values, labels, x_idx=0, y_idx=1)"
   ]
  },
  {
   "cell_type": "code",
   "execution_count": 18,
   "metadata": {},
   "outputs": [
    {
     "data": {
      "image/png": "[encoded data removed]",
      "text/plain": [
       "<Figure size 1000x600 with 1 Axes>"
      ]
     },
     "metadata": {},
     "output_type": "display_data"
    }
   ],
   "source": [
    "# Show cluster size distribution\n",
    "plot_cluster_sizes(labels)"
   ]
  },
  {
   "cell_type": "code",
   "execution_count": 19,
   "metadata": {},
   "outputs": [],
   "source": [
    "# DBSCAN clustering"
   ]
  },
  {
   "cell_type": "code",
   "execution_count": 20,
   "metadata": {},
   "outputs": [],
   "source": [
    "# Gaussian Mixture Model (GMM) clustering\n"
   ]
  },
  {
   "cell_type": "code",
   "execution_count": 21,
   "metadata": {},
   "outputs": [],
   "source": [
    "# Hierarchical clustering\n"
   ]
  },
  {
   "cell_type": "markdown",
   "metadata": {},
   "source": [
    "### Cluster evaluation and comparison"
   ]
  },
  {
   "cell_type": "code",
   "execution_count": 22,
   "metadata": {},
   "outputs": [],
   "source": [
    "# Compare clustering results using metrics (Silhouette score, Calinski-Harabasz index, Davies-Bouldin index)"
   ]
  },
  {
   "cell_type": "code",
   "execution_count": 23,
   "metadata": {},
   "outputs": [],
   "source": [
    "# Visualize cluster comparisons (word clouds, ...)"
   ]
  },
  {
   "cell_type": "code",
   "execution_count": 24,
   "metadata": {},
   "outputs": [],
   "source": [
    "# Analyse cluster characteristics and interpret results"
   ]
  },
  {
   "cell_type": "markdown",
   "metadata": {},
   "source": [
    "### Visualization and Insights"
   ]
  },
  {
   "cell_type": "code",
   "execution_count": 25,
   "metadata": {},
   "outputs": [],
   "source": [
    "# Various visualizations (cluster distribution plots, feature importance within clusters, pairplots with key features, heatmaps of cluster characteristics)\n"
   ]
  },
  {
   "cell_type": "code",
   "execution_count": 26,
   "metadata": {},
   "outputs": [],
   "source": [
    "# Generate insights about food product groupings"
   ]
  },
  {
   "cell_type": "code",
   "execution_count": 27,
   "metadata": {},
   "outputs": [],
   "source": [
    "# Indentify patterns and trends in the clusters"
   ]
  },
  {
   "cell_type": "markdown",
   "metadata": {},
   "source": [
    "### Conclusions and recommendations"
   ]
  },
  {
   "cell_type": "code",
   "execution_count": 28,
   "metadata": {},
   "outputs": [],
   "source": [
    "# Summarize findings\n"
   ]
  },
  {
   "cell_type": "code",
   "execution_count": 29,
   "metadata": {},
   "outputs": [],
   "source": [
    "# Compare strengths and weaknesses of different clustering methods\n"
   ]
  },
  {
   "cell_type": "code",
   "execution_count": 30,
   "metadata": {},
   "outputs": [],
   "source": [
    "# Provide recommendations for practical applications\n"
   ]
  },
  {
   "cell_type": "code",
   "execution_count": 31,
   "metadata": {},
   "outputs": [],
   "source": [
    "#Suggest potential areas for futher analysis"
   ]
  }
 ],
 "metadata": {
  "kernelspec": {
   "display_name": "clustering-openfoodfacts",
   "language": "python",
   "name": "python3"
  },
  "language_info": {
   "codemirror_mode": {
    "name": "ipython",
    "version": 3
   },
   "file_extension": ".py",
   "mimetype": "text/x-python",
   "name": "python",
   "nbconvert_exporter": "python",
   "pygments_lexer": "ipython3",
   "version": "3.13.2"
  }
 },
 "nbformat": 4,
 "nbformat_minor": 2
}
