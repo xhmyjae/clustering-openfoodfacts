{
 "cells": [
  {
   "metadata": {},
   "cell_type": "markdown",
   "source": "# Clustering on Open Food Facts dataset"
  },
  {
   "metadata": {},
   "cell_type": "markdown",
   "source": "### Load data"
  },
  {
   "metadata": {
    "ExecuteTime": {
     "end_time": "2025-03-27T10:22:45.982585Z",
     "start_time": "2025-03-27T10:22:45.972800Z"
    }
   },
   "cell_type": "code",
   "source": [
    "# Imports libraries\n",
    "from scripts import analyse_columns, clean\n",
    "import pandas as pd\n",
    "import numpy as np"
   ],
   "outputs": [],
   "execution_count": 6
  },
  {
   "metadata": {
    "ExecuteTime": {
     "end_time": "2025-03-27T10:23:15.819003Z",
     "start_time": "2025-03-27T10:22:48.988441Z"
    }
   },
   "cell_type": "code",
   "source": [
    "# Load Open Food Facts dataset csv\n",
    "path = \"data/en.openfoodfacts.org.products.csv\"\n",
    "\n",
    "df = pd.read_csv(path, \n",
    "                 sep='\\\\t', \n",
    "                 encoding=\"utf-8\",\n",
    "                 on_bad_lines='skip',\n",
    "                 nrows=300000)"
   ],
   "outputs": [
    {
     "name": "stderr",
     "output_type": "stream",
     "text": [
      "C:\\Users\\krisf\\AppData\\Local\\Temp\\ipykernel_75360\\856545424.py:4: ParserWarning: Falling back to the 'python' engine because the 'c' engine does not support regex separators (separators > 1 char and different from '\\s+' are interpreted as regex); you can avoid this warning by specifying engine='python'.\n",
      "  df = pd.read_csv(path,\n"
     ]
    }
   ],
   "execution_count": 7
  },
  {
   "metadata": {
    "ExecuteTime": {
     "end_time": "2025-03-27T08:11:05.430694Z",
     "start_time": "2025-03-27T08:11:05.408700Z"
    }
   },
   "cell_type": "code",
   "source": [
    "# Display basic information about the dataset\n",
    "print(\"Dataset shape:\", df.shape)\n",
    "print(\"\\nFirst few rows:\")\n",
    "display(df.head())"
   ],
   "outputs": [
    {
     "name": "stdout",
     "output_type": "stream",
     "text": [
      "Dataset shape: (300000, 206)\n",
      "\n",
      "First few rows:\n"
     ]
    },
    {
     "data": {
      "text/plain": [
       "   code                                                url  creator  \\\n",
       "0    54  http://world-en.openfoodfacts.org/product/0000...  kiliweb   \n",
       "1    63  http://world-en.openfoodfacts.org/product/0000...  kiliweb   \n",
       "2   114  http://world-en.openfoodfacts.org/product/0000...  kiliweb   \n",
       "3     1  http://world-en.openfoodfacts.org/product/0000...      inf   \n",
       "4   105  http://world-en.openfoodfacts.org/product/0000...  kiliweb   \n",
       "\n",
       "    created_t      created_datetime  last_modified_t last_modified_datetime  \\\n",
       "0  1582569031  2020-02-24T18:30:31Z       1733085204   2024-12-01T20:33:24Z   \n",
       "1  1673620307  2023-01-13T14:31:47Z       1732913331   2024-11-29T20:48:51Z   \n",
       "2  1580066482  2020-01-26T19:21:22Z       1737247862   2025-01-19T00:51:02Z   \n",
       "3  1634745456  2021-10-20T15:57:36Z       1738676541   2025-02-04T13:42:21Z   \n",
       "4  1572117743  2019-10-26T19:22:23Z       1738073570   2025-01-28T14:12:50Z   \n",
       "\n",
       "   last_modified_by  last_updated_t last_updated_datetime  ...  \\\n",
       "0               NaN    1.738849e+09  2025-02-06T13:42:06Z  ...   \n",
       "1  insectproductadd    1.738849e+09  2025-02-06T13:41:15Z  ...   \n",
       "2      smoothie-app    1.738688e+09  2025-02-04T16:50:01Z  ...   \n",
       "3     waistline-app    1.738848e+09  2025-02-06T13:22:19Z  ...   \n",
       "4               NaN    1.738851e+09  2025-02-06T14:04:43Z  ...   \n",
       "\n",
       "  glycemic-index_100g water-hardness_100g choline_100g phylloquinone_100g  \\\n",
       "0                 NaN                 NaN          NaN                NaN   \n",
       "1                 NaN                 NaN          NaN                NaN   \n",
       "2                 NaN                 NaN          NaN                NaN   \n",
       "3                 NaN                 NaN          NaN                NaN   \n",
       "4                 NaN                 NaN          NaN                NaN   \n",
       "\n",
       "  beta-glucan_100g inositol_100g carnitine_100g sulphate_100g nitrate_100g  \\\n",
       "0              NaN           NaN            NaN           NaN          NaN   \n",
       "1              NaN           NaN            NaN           NaN          NaN   \n",
       "2              NaN           NaN            NaN           NaN          NaN   \n",
       "3              NaN           NaN            NaN           NaN          NaN   \n",
       "4              NaN           NaN            NaN           NaN          NaN   \n",
       "\n",
       "  acidity_100g  \n",
       "0          NaN  \n",
       "1          NaN  \n",
       "2          NaN  \n",
       "3          NaN  \n",
       "4          NaN  \n",
       "\n",
       "[5 rows x 206 columns]"
      ],
      "text/html": [
       "<div>\n",
       "<style scoped>\n",
       "    .dataframe tbody tr th:only-of-type {\n",
       "        vertical-align: middle;\n",
       "    }\n",
       "\n",
       "    .dataframe tbody tr th {\n",
       "        vertical-align: top;\n",
       "    }\n",
       "\n",
       "    .dataframe thead th {\n",
       "        text-align: right;\n",
       "    }\n",
       "</style>\n",
       "<table border=\"1\" class=\"dataframe\">\n",
       "  <thead>\n",
       "    <tr style=\"text-align: right;\">\n",
       "      <th></th>\n",
       "      <th>code</th>\n",
       "      <th>url</th>\n",
       "      <th>creator</th>\n",
       "      <th>created_t</th>\n",
       "      <th>created_datetime</th>\n",
       "      <th>last_modified_t</th>\n",
       "      <th>last_modified_datetime</th>\n",
       "      <th>last_modified_by</th>\n",
       "      <th>last_updated_t</th>\n",
       "      <th>last_updated_datetime</th>\n",
       "      <th>...</th>\n",
       "      <th>glycemic-index_100g</th>\n",
       "      <th>water-hardness_100g</th>\n",
       "      <th>choline_100g</th>\n",
       "      <th>phylloquinone_100g</th>\n",
       "      <th>beta-glucan_100g</th>\n",
       "      <th>inositol_100g</th>\n",
       "      <th>carnitine_100g</th>\n",
       "      <th>sulphate_100g</th>\n",
       "      <th>nitrate_100g</th>\n",
       "      <th>acidity_100g</th>\n",
       "    </tr>\n",
       "  </thead>\n",
       "  <tbody>\n",
       "    <tr>\n",
       "      <th>0</th>\n",
       "      <td>54</td>\n",
       "      <td>http://world-en.openfoodfacts.org/product/0000...</td>\n",
       "      <td>kiliweb</td>\n",
       "      <td>1582569031</td>\n",
       "      <td>2020-02-24T18:30:31Z</td>\n",
       "      <td>1733085204</td>\n",
       "      <td>2024-12-01T20:33:24Z</td>\n",
       "      <td>NaN</td>\n",
       "      <td>1.738849e+09</td>\n",
       "      <td>2025-02-06T13:42:06Z</td>\n",
       "      <td>...</td>\n",
       "      <td>NaN</td>\n",
       "      <td>NaN</td>\n",
       "      <td>NaN</td>\n",
       "      <td>NaN</td>\n",
       "      <td>NaN</td>\n",
       "      <td>NaN</td>\n",
       "      <td>NaN</td>\n",
       "      <td>NaN</td>\n",
       "      <td>NaN</td>\n",
       "      <td>NaN</td>\n",
       "    </tr>\n",
       "    <tr>\n",
       "      <th>1</th>\n",
       "      <td>63</td>\n",
       "      <td>http://world-en.openfoodfacts.org/product/0000...</td>\n",
       "      <td>kiliweb</td>\n",
       "      <td>1673620307</td>\n",
       "      <td>2023-01-13T14:31:47Z</td>\n",
       "      <td>1732913331</td>\n",
       "      <td>2024-11-29T20:48:51Z</td>\n",
       "      <td>insectproductadd</td>\n",
       "      <td>1.738849e+09</td>\n",
       "      <td>2025-02-06T13:41:15Z</td>\n",
       "      <td>...</td>\n",
       "      <td>NaN</td>\n",
       "      <td>NaN</td>\n",
       "      <td>NaN</td>\n",
       "      <td>NaN</td>\n",
       "      <td>NaN</td>\n",
       "      <td>NaN</td>\n",
       "      <td>NaN</td>\n",
       "      <td>NaN</td>\n",
       "      <td>NaN</td>\n",
       "      <td>NaN</td>\n",
       "    </tr>\n",
       "    <tr>\n",
       "      <th>2</th>\n",
       "      <td>114</td>\n",
       "      <td>http://world-en.openfoodfacts.org/product/0000...</td>\n",
       "      <td>kiliweb</td>\n",
       "      <td>1580066482</td>\n",
       "      <td>2020-01-26T19:21:22Z</td>\n",
       "      <td>1737247862</td>\n",
       "      <td>2025-01-19T00:51:02Z</td>\n",
       "      <td>smoothie-app</td>\n",
       "      <td>1.738688e+09</td>\n",
       "      <td>2025-02-04T16:50:01Z</td>\n",
       "      <td>...</td>\n",
       "      <td>NaN</td>\n",
       "      <td>NaN</td>\n",
       "      <td>NaN</td>\n",
       "      <td>NaN</td>\n",
       "      <td>NaN</td>\n",
       "      <td>NaN</td>\n",
       "      <td>NaN</td>\n",
       "      <td>NaN</td>\n",
       "      <td>NaN</td>\n",
       "      <td>NaN</td>\n",
       "    </tr>\n",
       "    <tr>\n",
       "      <th>3</th>\n",
       "      <td>1</td>\n",
       "      <td>http://world-en.openfoodfacts.org/product/0000...</td>\n",
       "      <td>inf</td>\n",
       "      <td>1634745456</td>\n",
       "      <td>2021-10-20T15:57:36Z</td>\n",
       "      <td>1738676541</td>\n",
       "      <td>2025-02-04T13:42:21Z</td>\n",
       "      <td>waistline-app</td>\n",
       "      <td>1.738848e+09</td>\n",
       "      <td>2025-02-06T13:22:19Z</td>\n",
       "      <td>...</td>\n",
       "      <td>NaN</td>\n",
       "      <td>NaN</td>\n",
       "      <td>NaN</td>\n",
       "      <td>NaN</td>\n",
       "      <td>NaN</td>\n",
       "      <td>NaN</td>\n",
       "      <td>NaN</td>\n",
       "      <td>NaN</td>\n",
       "      <td>NaN</td>\n",
       "      <td>NaN</td>\n",
       "    </tr>\n",
       "    <tr>\n",
       "      <th>4</th>\n",
       "      <td>105</td>\n",
       "      <td>http://world-en.openfoodfacts.org/product/0000...</td>\n",
       "      <td>kiliweb</td>\n",
       "      <td>1572117743</td>\n",
       "      <td>2019-10-26T19:22:23Z</td>\n",
       "      <td>1738073570</td>\n",
       "      <td>2025-01-28T14:12:50Z</td>\n",
       "      <td>NaN</td>\n",
       "      <td>1.738851e+09</td>\n",
       "      <td>2025-02-06T14:04:43Z</td>\n",
       "      <td>...</td>\n",
       "      <td>NaN</td>\n",
       "      <td>NaN</td>\n",
       "      <td>NaN</td>\n",
       "      <td>NaN</td>\n",
       "      <td>NaN</td>\n",
       "      <td>NaN</td>\n",
       "      <td>NaN</td>\n",
       "      <td>NaN</td>\n",
       "      <td>NaN</td>\n",
       "      <td>NaN</td>\n",
       "    </tr>\n",
       "  </tbody>\n",
       "</table>\n",
       "<p>5 rows × 206 columns</p>\n",
       "</div>"
      ]
     },
     "metadata": {},
     "output_type": "display_data"
    }
   ],
   "execution_count": 3
  },
  {
   "metadata": {
    "ExecuteTime": {
     "end_time": "2025-03-27T08:12:16.418095Z",
     "start_time": "2025-03-27T08:12:16.414673Z"
    }
   },
   "cell_type": "code",
   "source": [
    "# Display number of rows and columns\n",
    "print(df.shape)"
   ],
   "outputs": [
    {
     "name": "stdout",
     "output_type": "stream",
     "text": [
      "(300000, 206)\n"
     ]
    }
   ],
   "execution_count": 4
  },
  {
   "metadata": {
    "ExecuteTime": {
     "end_time": "2025-03-27T08:12:24.238558Z",
     "start_time": "2025-03-27T08:12:21.701979Z"
    }
   },
   "cell_type": "code",
   "source": [
    "# Show summary statistics of numeric columns\n",
    "# Display detailed summary statistics of numeric columns\n",
    "print(\"\\nSummary statistics of numeric columns:\")\n",
    "print(df.describe(include=[np.number], percentiles=[.05, .25, .5, .75, .95]))\n",
    "\n",
    "# Show additional statistics\n",
    "print(\"\\nSkewness of numeric columns:\")\n",
    "print(df.select_dtypes(include=[np.number]).skew())\n",
    "\n",
    "print(\"\\nKurtosis of numeric columns:\")\n",
    "print(df.select_dtypes(include=[np.number]).kurtosis())\n",
    "\n",
    "# Count number of non-null values for each numeric column\n",
    "print(\"\\nNumber of non-null values in numeric columns:\")\n",
    "print(df.select_dtypes(include=[np.number]).count())\n",
    "\n"
   ],
   "outputs": [
    {
     "name": "stdout",
     "output_type": "stream",
     "text": [
      "\n",
      "Summary statistics of numeric columns:\n",
      "               code     created_t  last_modified_t  last_updated_t  cities  \\\n",
      "count  3.000000e+05  3.000000e+05     3.000000e+05    2.999990e+05     0.0   \n",
      "mean   3.172711e+10  1.600897e+09     1.656062e+09    1.728277e+09     NaN   \n",
      "std    1.812504e+10  7.827160e+07     6.031557e+07    1.219034e+07     NaN   \n",
      "min    1.000000e+00  1.332445e+09     1.424628e+09    1.701775e+09     NaN   \n",
      "5%     3.855128e+05  1.489060e+09     1.587574e+09    1.707765e+09     NaN   \n",
      "25%    1.600015e+10  1.537405e+09     1.587660e+09    1.718830e+09     NaN   \n",
      "50%    3.660230e+10  1.590010e+09     1.664404e+09    1.734779e+09     NaN   \n",
      "75%    4.256301e+10  1.659122e+09     1.718831e+09    1.736297e+09     NaN   \n",
      "95%    6.022916e+10  1.723736e+09     1.734123e+09    1.738826e+09     NaN   \n",
      "max    6.404223e+10  1.739341e+09     1.739341e+09    1.739341e+09     NaN   \n",
      "\n",
      "       allergens_en  serving_quantity    additives_n  additives  \\\n",
      "count           0.0      1.710820e+05  157540.000000        0.0   \n",
      "mean            NaN      3.190024e+26       2.725517        NaN   \n",
      "std             NaN      1.319460e+29       3.378796        NaN   \n",
      "min             NaN      0.000000e+00       0.000000        NaN   \n",
      "5%              NaN      5.000000e+00       0.000000        NaN   \n",
      "25%             NaN      2.800000e+01       0.000000        NaN   \n",
      "50%             NaN      4.500000e+01       2.000000        NaN   \n",
      "75%             NaN      1.130000e+02       4.000000        NaN   \n",
      "95%             NaN      2.840000e+02       9.000000        NaN   \n",
      "max             NaN      5.457558e+31      33.000000        NaN   \n",
      "\n",
      "       nutriscore_score  ...  glycemic-index_100g  water-hardness_100g  \\\n",
      "count     140239.000000  ...                  0.0                  0.0   \n",
      "mean          11.686114  ...                  NaN                  NaN   \n",
      "std           10.260480  ...                  NaN                  NaN   \n",
      "min          -17.000000  ...                  NaN                  NaN   \n",
      "5%            -4.000000  ...                  NaN                  NaN   \n",
      "25%            3.000000  ...                  NaN                  NaN   \n",
      "50%           12.000000  ...                  NaN                  NaN   \n",
      "75%           19.000000  ...                  NaN                  NaN   \n",
      "95%           29.000000  ...                  NaN                  NaN   \n",
      "max           55.000000  ...                  NaN                  NaN   \n",
      "\n",
      "       choline_100g  phylloquinone_100g  beta-glucan_100g  inositol_100g  \\\n",
      "count      2.000000          459.000000               0.0       2.000000   \n",
      "mean       0.098650            0.000170               NaN      37.511500   \n",
      "std        0.052821            0.000963               NaN      53.016745   \n",
      "min        0.061300            0.000000               NaN       0.023000   \n",
      "5%         0.065035            0.000001               NaN       3.771850   \n",
      "25%        0.079975            0.000006               NaN      18.767250   \n",
      "50%        0.098650            0.000013               NaN      37.511500   \n",
      "75%        0.117325            0.000082               NaN      56.255750   \n",
      "95%        0.132265            0.000604               NaN      71.251150   \n",
      "max        0.136000            0.017143               NaN      75.000000   \n",
      "\n",
      "       carnitine_100g  sulphate_100g  nitrate_100g  acidity_100g  \n",
      "count             0.0       1.000000  3.000000e+00           1.0  \n",
      "mean              NaN       0.000031  8.766667e-05           5.0  \n",
      "std               NaN            NaN  1.492526e-04           NaN  \n",
      "min               NaN       0.000031  0.000000e+00           5.0  \n",
      "5%                NaN       0.000031  3.000000e-07           5.0  \n",
      "25%               NaN       0.000031  1.500000e-06           5.0  \n",
      "50%               NaN       0.000031  3.000000e-06           5.0  \n",
      "75%               NaN       0.000031  1.315000e-04           5.0  \n",
      "95%               NaN       0.000031  2.343000e-04           5.0  \n",
      "max               NaN       0.000031  2.600000e-04           5.0  \n",
      "\n",
      "[10 rows x 135 columns]\n",
      "\n",
      "Skewness of numeric columns:\n",
      "code              -0.223610\n",
      "created_t         -0.167363\n",
      "last_modified_t   -0.326578\n",
      "last_updated_t    -0.940910\n",
      "cities                  NaN\n",
      "                     ...   \n",
      "inositol_100g           NaN\n",
      "carnitine_100g          NaN\n",
      "sulphate_100g           NaN\n",
      "nitrate_100g       1.731264\n",
      "acidity_100g            NaN\n",
      "Length: 135, dtype: float64\n",
      "\n",
      "Kurtosis of numeric columns:\n",
      "code              -1.003524\n",
      "created_t         -0.965741\n",
      "last_modified_t   -0.887953\n",
      "last_updated_t    -0.909574\n",
      "cities                  NaN\n",
      "                     ...   \n",
      "inositol_100g           NaN\n",
      "carnitine_100g          NaN\n",
      "sulphate_100g           NaN\n",
      "nitrate_100g            NaN\n",
      "acidity_100g            NaN\n",
      "Length: 135, dtype: float64\n",
      "\n",
      "Number of non-null values in numeric columns:\n",
      "code               300000\n",
      "created_t          300000\n",
      "last_modified_t    300000\n",
      "last_updated_t     299999\n",
      "cities                  0\n",
      "                    ...  \n",
      "inositol_100g           2\n",
      "carnitine_100g          0\n",
      "sulphate_100g           1\n",
      "nitrate_100g            3\n",
      "acidity_100g            1\n",
      "Length: 135, dtype: int64\n"
     ]
    }
   ],
   "execution_count": 5
  },
  {
   "metadata": {},
   "cell_type": "markdown",
   "source": "### Data Processing"
  },
  {
   "metadata": {},
   "cell_type": "code",
   "outputs": [],
   "execution_count": null,
   "source": "# Handle missing values"
  },
  {
   "metadata": {},
   "cell_type": "code",
   "outputs": [],
   "execution_count": null,
   "source": "# Select relevant features for clustering\n"
  },
  {
   "metadata": {},
   "cell_type": "code",
   "outputs": [],
   "execution_count": null,
   "source": "# Scale/normalize features\n"
  },
  {
   "metadata": {},
   "cell_type": "code",
   "outputs": [],
   "execution_count": null,
   "source": "# Remove outliers\n"
  },
  {
   "metadata": {},
   "cell_type": "code",
   "outputs": [],
   "execution_count": null,
   "source": "# Create cleaned dataset\n"
  },
  {
   "metadata": {},
   "cell_type": "markdown",
   "source": "### Feature Engineering"
  },
  {
   "metadata": {},
   "cell_type": "code",
   "outputs": [],
   "execution_count": null,
   "source": "# Create new features\n"
  },
  {
   "metadata": {},
   "cell_type": "code",
   "outputs": [],
   "execution_count": null,
   "source": "# Do PCA to visualize high-dimensional data\n"
  },
  {
   "metadata": {},
   "cell_type": "code",
   "outputs": [],
   "execution_count": null,
   "source": "# Analyze feature importance and correlations\n"
  },
  {
   "metadata": {},
   "cell_type": "markdown",
   "source": "### Clustering Analysis"
  },
  {
   "metadata": {},
   "cell_type": "code",
   "outputs": [],
   "execution_count": null,
   "source": [
    "# Kmeans clustering\n",
    "\n",
    "# Implement\n",
    "# Determine optimal number of clusters\n",
    "# Visualize clusters\n",
    "# Analyze cluster characteristics\n"
   ]
  },
  {
   "metadata": {},
   "cell_type": "code",
   "outputs": [],
   "execution_count": null,
   "source": "# DBSCAN clustering\n"
  },
  {
   "metadata": {},
   "cell_type": "code",
   "outputs": [],
   "execution_count": null,
   "source": "# Gaussian Mixture Model (GMM) clustering\n"
  },
  {
   "metadata": {},
   "cell_type": "code",
   "outputs": [],
   "execution_count": null,
   "source": "# Hierarchical clustering\n"
  },
  {
   "metadata": {},
   "cell_type": "markdown",
   "source": "### Cluster evaluation and comparison"
  },
  {
   "metadata": {},
   "cell_type": "code",
   "outputs": [],
   "execution_count": null,
   "source": "# Compare clustering results using metrics (Silhouette score, Calinski-Harabasz index, Davies-Bouldin index)\n"
  },
  {
   "metadata": {},
   "cell_type": "code",
   "outputs": [],
   "execution_count": null,
   "source": "# Visualize cluster comparisons"
  },
  {
   "metadata": {},
   "cell_type": "code",
   "outputs": [],
   "execution_count": null,
   "source": "# Analyse cluster characteristics and interpret results\n"
  },
  {
   "metadata": {},
   "cell_type": "markdown",
   "source": "### Visualization and Insights"
  },
  {
   "metadata": {},
   "cell_type": "code",
   "outputs": [],
   "execution_count": null,
   "source": "# Various visualizations (cluster distribution plots, feature importance within clusters, pairplots with key features, heatmaps of cluster characteristics)\n"
  },
  {
   "metadata": {},
   "cell_type": "code",
   "outputs": [],
   "execution_count": null,
   "source": "# Generate insights about food product groupings"
  },
  {
   "metadata": {},
   "cell_type": "code",
   "outputs": [],
   "execution_count": null,
   "source": "# Indentify patterns and trends in the clusters"
  },
  {
   "metadata": {},
   "cell_type": "markdown",
   "source": "### Conclusions and recommendations"
  },
  {
   "metadata": {},
   "cell_type": "code",
   "outputs": [],
   "execution_count": null,
   "source": "# Summarize findings\n"
  },
  {
   "metadata": {},
   "cell_type": "code",
   "outputs": [],
   "execution_count": null,
   "source": "# Compare strengths and weaknesses of different clustering methods\n"
  },
  {
   "metadata": {},
   "cell_type": "code",
   "outputs": [],
   "execution_count": null,
   "source": "# Provide recommendations for practical applications\n"
  },
  {
   "metadata": {},
   "cell_type": "code",
   "outputs": [],
   "execution_count": null,
   "source": "#Suggest potential areas for futher analysis"
  }
 ],
 "metadata": {
  "kernelspec": {
   "display_name": "clustering-openfoodfacts",
   "language": "python",
   "name": "python3"
  },
  "language_info": {
   "codemirror_mode": {
    "name": "ipython",
    "version": 3
   },
   "file_extension": ".py",
   "mimetype": "text/x-python",
   "name": "python",
   "nbconvert_exporter": "python",
   "pygments_lexer": "ipython3",
   "version": "3.13.2"
  }
 },
 "nbformat": 4,
 "nbformat_minor": 2
}
